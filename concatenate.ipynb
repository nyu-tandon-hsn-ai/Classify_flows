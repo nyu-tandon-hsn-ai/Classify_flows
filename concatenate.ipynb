{
 "cells": [
  {
   "cell_type": "code",
   "execution_count": 1,
   "metadata": {
    "collapsed": true
   },
   "outputs": [],
   "source": [
    "import pandas as pd"
   ]
  },
  {
   "cell_type": "code",
   "execution_count": 2,
   "metadata": {},
   "outputs": [],
   "source": [
    "df_bili = pd.read_csv(\"./data/bilibili_tcp_flow.csv\")\n",
    "df_bili.insert(loc=5, column='is_tcp', value='1')\n",
    "df_bili_u = pd.read_csv(\"./data/bilibili_udp_flow.csv\")\n",
    "df_bili_u.insert(loc=5, column='is_tcp', value='0')\n",
    "df_bili = df_bili.append(df_bili_u)\n",
    "\n",
    "df_skype = pd.read_csv(\"./data/Skype_HongKong_tcp_flow.csv\")\n",
    "df_skype.insert(loc=5, column='is_tcp', value='1')\n",
    "df_skype_u = pd.read_csv(\"./data/Skype_HongKong_udp_flow.csv\")\n",
    "df_skype_u.insert(loc=5, column='is_tcp', value='0')\n",
    "df_skype = df_skype.append(df_skype_u)\n",
    "\n",
    "df_download = pd.read_csv(\"./data/APP_DOWNLOAD_tcp_flow.csv\")\n",
    "df_download.insert(loc=5, column='is_tcp', value='1')\n",
    "df_download_u = pd.read_csv(\"./data/APP_DOWNLOAD_udp_flow.csv\")\n",
    "df_download_u.insert(loc=5, column='is_tcp', value='0')\n",
    "df_download = df_download.append(df_download_u)\n",
    "\n",
    "df_LoL = pd.read_csv(\"./data/LOL_AI_tcp_flow.csv\")\n",
    "df_LoL.insert(loc=5, column='is_tcp', value='1')\n",
    "df_LoL_u = pd.read_csv(\"./data/LOL_AI_udp_flow.csv\")\n",
    "df_LoL_u.insert(loc=5, column='is_tcp', value='0')\n",
    "df_LoL = df_LoL.append(df_LoL_u)\n",
    "\n",
    "df_netease = pd.read_csv(\"./data/netease_game_tcp_flow.csv\")\n",
    "df_netease.insert(loc=5, column='is_tcp', value='1')\n",
    "df_netease_u = pd.read_csv(\"./data/netease_game_udp_flow.csv\")\n",
    "df_netease_u.insert(loc=5, column='is_tcp', value='0')\n",
    "df_netease = df_netease.append(df_netease_u)\n",
    "\n",
    "df_youtube = pd.read_csv(\"./data/youtube_tcp_flow.csv\")\n",
    "df_youtube.insert(loc=5, column='is_tcp', value='1')\n",
    "df_youtube_u = pd.read_csv(\"./data/youtube_udp_flow.csv\")\n",
    "df_youtube_u.insert(loc=5, column='is_tcp', value='0')\n",
    "df_youtube = df_youtube.append(df_youtube_u)\n",
    "\n",
    "df_tencent = pd.read_csv(\"./data/tencent_game_na_tcp_flow.csv\")\n",
    "df_tencent.insert(loc=5, column='is_tcp', value='1')\n",
    "df_tencent_u = pd.read_csv(\"./data/tencent_game_na_udp_flow.csv\")\n",
    "df_tencent_u.insert(loc=5, column='is_tcp', value='0')\n",
    "df_tencent = df_tencent.append(df_tencent_u)"
   ]
  },
  {
   "cell_type": "code",
   "execution_count": 3,
   "metadata": {
    "collapsed": true
   },
   "outputs": [],
   "source": [
    "## name of output\n",
    "output = \"./concatenate.csv\""
   ]
  },
  {
   "cell_type": "code",
   "execution_count": 4,
   "metadata": {},
   "outputs": [
    {
     "data": {
      "text/html": [
       "<div>\n",
       "<style>\n",
       "    .dataframe thead tr:only-child th {\n",
       "        text-align: right;\n",
       "    }\n",
       "\n",
       "    .dataframe thead th {\n",
       "        text-align: left;\n",
       "    }\n",
       "\n",
       "    .dataframe tbody tr th {\n",
       "        vertical-align: top;\n",
       "    }\n",
       "</style>\n",
       "<table border=\"1\" class=\"dataframe\">\n",
       "  <thead>\n",
       "    <tr style=\"text-align: right;\">\n",
       "      <th></th>\n",
       "      <th>avg(pkt_len)</th>\n",
       "      <th>stddev(pkt_len)</th>\n",
       "      <th>fb_ratio</th>\n",
       "      <th>inter_arrival_time</th>\n",
       "      <th>pkt_count</th>\n",
       "      <th>is_tcp</th>\n",
       "    </tr>\n",
       "  </thead>\n",
       "  <tbody>\n",
       "    <tr>\n",
       "      <th>0</th>\n",
       "      <td>4.428571</td>\n",
       "      <td>11.716899</td>\n",
       "      <td>0.750000</td>\n",
       "      <td>0.014521</td>\n",
       "      <td>7</td>\n",
       "      <td>1</td>\n",
       "    </tr>\n",
       "    <tr>\n",
       "      <th>1</th>\n",
       "      <td>1011.593000</td>\n",
       "      <td>517.558285</td>\n",
       "      <td>4.025126</td>\n",
       "      <td>0.001144</td>\n",
       "      <td>1000</td>\n",
       "      <td>1</td>\n",
       "    </tr>\n",
       "    <tr>\n",
       "      <th>2</th>\n",
       "      <td>834.888889</td>\n",
       "      <td>607.661173</td>\n",
       "      <td>2.750000</td>\n",
       "      <td>0.015555</td>\n",
       "      <td>45</td>\n",
       "      <td>1</td>\n",
       "    </tr>\n",
       "    <tr>\n",
       "      <th>3</th>\n",
       "      <td>76.123077</td>\n",
       "      <td>106.796264</td>\n",
       "      <td>1.063492</td>\n",
       "      <td>1.706077</td>\n",
       "      <td>130</td>\n",
       "      <td>1</td>\n",
       "    </tr>\n",
       "    <tr>\n",
       "      <th>4</th>\n",
       "      <td>4.428571</td>\n",
       "      <td>11.716899</td>\n",
       "      <td>0.750000</td>\n",
       "      <td>0.014508</td>\n",
       "      <td>7</td>\n",
       "      <td>1</td>\n",
       "    </tr>\n",
       "  </tbody>\n",
       "</table>\n",
       "</div>"
      ],
      "text/plain": [
       "   avg(pkt_len)  stddev(pkt_len)  fb_ratio  inter_arrival_time  pkt_count  \\\n",
       "0      4.428571        11.716899  0.750000            0.014521          7   \n",
       "1   1011.593000       517.558285  4.025126            0.001144       1000   \n",
       "2    834.888889       607.661173  2.750000            0.015555         45   \n",
       "3     76.123077       106.796264  1.063492            1.706077        130   \n",
       "4      4.428571        11.716899  0.750000            0.014508          7   \n",
       "\n",
       "  is_tcp  \n",
       "0      1  \n",
       "1      1  \n",
       "2      1  \n",
       "3      1  \n",
       "4      1  "
      ]
     },
     "execution_count": 4,
     "metadata": {},
     "output_type": "execute_result"
    }
   ],
   "source": [
    "df_bili.head(5)"
   ]
  },
  {
   "cell_type": "code",
   "execution_count": 5,
   "metadata": {},
   "outputs": [],
   "source": [
    "df_bili.insert(loc=6, column='outcome', value='bili')\n",
    "df_skype.insert(loc=6, column='outcome', value='skype')\n",
    "df_download.insert(loc=6, column='outcome', value='download')\n",
    "df_LoL.insert(loc=6, column='outcome', value='LoL')\n",
    "df_netease.insert(loc=6, column='outcome', value='netease')\n",
    "df_youtube.insert(loc=6, column='outcome', value='youtube')\n",
    "df_tencent.insert(loc=6, column='outcome', value='tencent')"
   ]
  },
  {
   "cell_type": "code",
   "execution_count": 6,
   "metadata": {
    "collapsed": true
   },
   "outputs": [],
   "source": [
    "df_concat = pd.concat([df_bili, df_skype, df_download, df_LoL, df_netease, df_youtube, df_tencent,\n",
    "                      ], ignore_index=True)"
   ]
  },
  {
   "cell_type": "code",
   "execution_count": 7,
   "metadata": {},
   "outputs": [
    {
     "name": "stdout",
     "output_type": "stream",
     "text": [
      "Read 2528 rows.\n"
     ]
    }
   ],
   "source": [
    "# df_1x.head(5)\n",
    "print(\"Read {} rows.\".format(len(df_concat)))"
   ]
  },
  {
   "cell_type": "code",
   "execution_count": 8,
   "metadata": {},
   "outputs": [
    {
     "data": {
      "text/html": [
       "<div>\n",
       "<style>\n",
       "    .dataframe thead tr:only-child th {\n",
       "        text-align: right;\n",
       "    }\n",
       "\n",
       "    .dataframe thead th {\n",
       "        text-align: left;\n",
       "    }\n",
       "\n",
       "    .dataframe tbody tr th {\n",
       "        vertical-align: top;\n",
       "    }\n",
       "</style>\n",
       "<table border=\"1\" class=\"dataframe\">\n",
       "  <thead>\n",
       "    <tr style=\"text-align: right;\">\n",
       "      <th></th>\n",
       "      <th>avg(pkt_len)</th>\n",
       "      <th>stddev(pkt_len)</th>\n",
       "      <th>fb_ratio</th>\n",
       "      <th>inter_arrival_time</th>\n",
       "      <th>pkt_count</th>\n",
       "      <th>is_tcp</th>\n",
       "      <th>outcome</th>\n",
       "    </tr>\n",
       "  </thead>\n",
       "  <tbody>\n",
       "    <tr>\n",
       "      <th>0</th>\n",
       "      <td>4.428571</td>\n",
       "      <td>11.716899</td>\n",
       "      <td>0.750000</td>\n",
       "      <td>0.014521</td>\n",
       "      <td>7</td>\n",
       "      <td>1</td>\n",
       "      <td>bili</td>\n",
       "    </tr>\n",
       "    <tr>\n",
       "      <th>1</th>\n",
       "      <td>1011.593000</td>\n",
       "      <td>517.558285</td>\n",
       "      <td>4.025126</td>\n",
       "      <td>0.001144</td>\n",
       "      <td>1000</td>\n",
       "      <td>1</td>\n",
       "      <td>bili</td>\n",
       "    </tr>\n",
       "    <tr>\n",
       "      <th>2</th>\n",
       "      <td>834.888889</td>\n",
       "      <td>607.661173</td>\n",
       "      <td>2.750000</td>\n",
       "      <td>0.015555</td>\n",
       "      <td>45</td>\n",
       "      <td>1</td>\n",
       "      <td>bili</td>\n",
       "    </tr>\n",
       "    <tr>\n",
       "      <th>3</th>\n",
       "      <td>76.123077</td>\n",
       "      <td>106.796264</td>\n",
       "      <td>1.063492</td>\n",
       "      <td>1.706077</td>\n",
       "      <td>130</td>\n",
       "      <td>1</td>\n",
       "      <td>bili</td>\n",
       "    </tr>\n",
       "    <tr>\n",
       "      <th>4</th>\n",
       "      <td>4.428571</td>\n",
       "      <td>11.716899</td>\n",
       "      <td>0.750000</td>\n",
       "      <td>0.014508</td>\n",
       "      <td>7</td>\n",
       "      <td>1</td>\n",
       "      <td>bili</td>\n",
       "    </tr>\n",
       "  </tbody>\n",
       "</table>\n",
       "</div>"
      ],
      "text/plain": [
       "   avg(pkt_len)  stddev(pkt_len)  fb_ratio  inter_arrival_time pkt_count  \\\n",
       "0      4.428571        11.716899  0.750000            0.014521         7   \n",
       "1   1011.593000       517.558285  4.025126            0.001144      1000   \n",
       "2    834.888889       607.661173  2.750000            0.015555        45   \n",
       "3     76.123077       106.796264  1.063492            1.706077       130   \n",
       "4      4.428571        11.716899  0.750000            0.014508         7   \n",
       "\n",
       "  is_tcp outcome  \n",
       "0      1    bili  \n",
       "1      1    bili  \n",
       "2      1    bili  \n",
       "3      1    bili  \n",
       "4      1    bili  "
      ]
     },
     "execution_count": 8,
     "metadata": {},
     "output_type": "execute_result"
    }
   ],
   "source": [
    "df_concat.head(5)"
   ]
  },
  {
   "cell_type": "code",
   "execution_count": 9,
   "metadata": {
    "collapsed": true
   },
   "outputs": [],
   "source": [
    "df_concat.to_csv(output)"
   ]
  },
  {
   "cell_type": "code",
   "execution_count": null,
   "metadata": {
    "collapsed": true
   },
   "outputs": [],
   "source": [
    "# df_1x.to_csv('train_1x.csv')"
   ]
  }
 ],
 "metadata": {
  "kernelspec": {
   "display_name": "Python 3",
   "language": "python",
   "name": "python3"
  },
  "language_info": {
   "codemirror_mode": {
    "name": "ipython",
    "version": 3
   },
   "file_extension": ".py",
   "mimetype": "text/x-python",
   "name": "python",
   "nbconvert_exporter": "python",
   "pygments_lexer": "ipython3",
   "version": "3.6.1"
  }
 },
 "nbformat": 4,
 "nbformat_minor": 2
}
