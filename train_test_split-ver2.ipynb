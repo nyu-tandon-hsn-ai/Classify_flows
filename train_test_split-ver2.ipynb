{
 "cells": [
  {
   "cell_type": "code",
   "execution_count": 1,
   "metadata": {
    "collapsed": true
   },
   "outputs": [],
   "source": [
    "import pandas as pd\n",
    "from sklearn.model_selection import train_test_split\n",
    "import numpy as np"
   ]
  },
  {
   "cell_type": "code",
   "execution_count": 2,
   "metadata": {},
   "outputs": [
    {
     "name": "stdout",
     "output_type": "stream",
     "text": [
      "4826\n"
     ]
    }
   ],
   "source": [
    "df = pd.read_csv(\"./concatenate.csv\")\n",
    "df = df.drop(df.columns[0], axis=1)\n",
    "\n",
    "df = df.dropna(axis=0, how='any')\n",
    "print(len(df))"
   ]
  },
  {
   "cell_type": "code",
   "execution_count": 3,
   "metadata": {},
   "outputs": [
    {
     "data": {
      "text/html": [
       "<div>\n",
       "<style>\n",
       "    .dataframe thead tr:only-child th {\n",
       "        text-align: right;\n",
       "    }\n",
       "\n",
       "    .dataframe thead th {\n",
       "        text-align: left;\n",
       "    }\n",
       "\n",
       "    .dataframe tbody tr th {\n",
       "        vertical-align: top;\n",
       "    }\n",
       "</style>\n",
       "<table border=\"1\" class=\"dataframe\">\n",
       "  <thead>\n",
       "    <tr style=\"text-align: right;\">\n",
       "      <th></th>\n",
       "      <th>avg(pkt_len)</th>\n",
       "      <th>stddev(pkt_len)</th>\n",
       "      <th>fb_ratio</th>\n",
       "      <th>inter_arrival_time</th>\n",
       "      <th>pkt_count</th>\n",
       "      <th>duration</th>\n",
       "      <th>pkt_len</th>\n",
       "      <th>is_tcp</th>\n",
       "      <th>outcome</th>\n",
       "    </tr>\n",
       "  </thead>\n",
       "  <tbody>\n",
       "    <tr>\n",
       "      <th>0</th>\n",
       "      <td>33.076923</td>\n",
       "      <td>14.384375</td>\n",
       "      <td>1.166667</td>\n",
       "      <td>0.000217</td>\n",
       "      <td>13</td>\n",
       "      <td>0.002604</td>\n",
       "      <td>430.0</td>\n",
       "      <td>1</td>\n",
       "      <td>streaming</td>\n",
       "    </tr>\n",
       "    <tr>\n",
       "      <th>1</th>\n",
       "      <td>1290.257073</td>\n",
       "      <td>117.777328</td>\n",
       "      <td>-1.000000</td>\n",
       "      <td>0.000094</td>\n",
       "      <td>813</td>\n",
       "      <td>0.076193</td>\n",
       "      <td>1048979.0</td>\n",
       "      <td>1</td>\n",
       "      <td>streaming</td>\n",
       "    </tr>\n",
       "    <tr>\n",
       "      <th>2</th>\n",
       "      <td>1282.492665</td>\n",
       "      <td>129.922698</td>\n",
       "      <td>-1.000000</td>\n",
       "      <td>0.000088</td>\n",
       "      <td>818</td>\n",
       "      <td>0.072213</td>\n",
       "      <td>1049079.0</td>\n",
       "      <td>1</td>\n",
       "      <td>streaming</td>\n",
       "    </tr>\n",
       "    <tr>\n",
       "      <th>3</th>\n",
       "      <td>1282.492665</td>\n",
       "      <td>129.922698</td>\n",
       "      <td>-1.000000</td>\n",
       "      <td>0.001646</td>\n",
       "      <td>818</td>\n",
       "      <td>1.345143</td>\n",
       "      <td>1049079.0</td>\n",
       "      <td>1</td>\n",
       "      <td>streaming</td>\n",
       "    </tr>\n",
       "    <tr>\n",
       "      <th>4</th>\n",
       "      <td>1285.587010</td>\n",
       "      <td>124.614575</td>\n",
       "      <td>-1.000000</td>\n",
       "      <td>0.002019</td>\n",
       "      <td>816</td>\n",
       "      <td>1.645688</td>\n",
       "      <td>1049039.0</td>\n",
       "      <td>1</td>\n",
       "      <td>streaming</td>\n",
       "    </tr>\n",
       "  </tbody>\n",
       "</table>\n",
       "</div>"
      ],
      "text/plain": [
       "   avg(pkt_len)  stddev(pkt_len)  fb_ratio  inter_arrival_time  pkt_count  \\\n",
       "0     33.076923        14.384375  1.166667            0.000217         13   \n",
       "1   1290.257073       117.777328 -1.000000            0.000094        813   \n",
       "2   1282.492665       129.922698 -1.000000            0.000088        818   \n",
       "3   1282.492665       129.922698 -1.000000            0.001646        818   \n",
       "4   1285.587010       124.614575 -1.000000            0.002019        816   \n",
       "\n",
       "   duration    pkt_len  is_tcp    outcome  \n",
       "0  0.002604      430.0       1  streaming  \n",
       "1  0.076193  1048979.0       1  streaming  \n",
       "2  0.072213  1049079.0       1  streaming  \n",
       "3  1.345143  1049079.0       1  streaming  \n",
       "4  1.645688  1049039.0       1  streaming  "
      ]
     },
     "execution_count": 3,
     "metadata": {},
     "output_type": "execute_result"
    }
   ],
   "source": [
    "df.head(5)"
   ]
  },
  {
   "cell_type": "code",
   "execution_count": 4,
   "metadata": {},
   "outputs": [
    {
     "name": "stdout",
     "output_type": "stream",
     "text": [
      "streaming 485\n",
      "voip 3059\n",
      "download 713\n",
      "game 569\n"
     ]
    }
   ],
   "source": [
    "for item in df.outcome.unique():\n",
    "    print (item, (df.outcome == item).sum())"
   ]
  },
  {
   "cell_type": "code",
   "execution_count": null,
   "metadata": {
    "collapsed": true
   },
   "outputs": [],
   "source": []
  },
  {
   "cell_type": "code",
   "execution_count": 5,
   "metadata": {
    "collapsed": true
   },
   "outputs": [],
   "source": [
    "## change to 0.50 0.25 0.75\n",
    "\n",
    "## train : test = 7 : 3\n",
    "train_normal, test_normal = train_test_split(df, test_size=0.3)\n",
    "\n",
    "# ## train : test = 0.75 : 0.25\n",
    "# train_normal, test_normal = train_test_split(df_normal, test_size=0.75)\n",
    "\n",
    "# ## train : test = 0.25 : 0.75\n",
    "# train_normal, test_normal = train_test_split(df_normal, test_size=0.25)"
   ]
  },
  {
   "cell_type": "code",
   "execution_count": 6,
   "metadata": {},
   "outputs": [
    {
     "name": "stdout",
     "output_type": "stream",
     "text": [
      "3378 1448\n"
     ]
    }
   ],
   "source": [
    "print(len(train_normal),len(test_normal))"
   ]
  },
  {
   "cell_type": "code",
   "execution_count": 7,
   "metadata": {},
   "outputs": [
    {
     "data": {
      "text/html": [
       "<div>\n",
       "<style>\n",
       "    .dataframe thead tr:only-child th {\n",
       "        text-align: right;\n",
       "    }\n",
       "\n",
       "    .dataframe thead th {\n",
       "        text-align: left;\n",
       "    }\n",
       "\n",
       "    .dataframe tbody tr th {\n",
       "        vertical-align: top;\n",
       "    }\n",
       "</style>\n",
       "<table border=\"1\" class=\"dataframe\">\n",
       "  <thead>\n",
       "    <tr style=\"text-align: right;\">\n",
       "      <th></th>\n",
       "      <th>avg(pkt_len)</th>\n",
       "      <th>stddev(pkt_len)</th>\n",
       "      <th>fb_ratio</th>\n",
       "      <th>inter_arrival_time</th>\n",
       "      <th>pkt_count</th>\n",
       "      <th>duration</th>\n",
       "      <th>pkt_len</th>\n",
       "      <th>is_tcp</th>\n",
       "      <th>outcome</th>\n",
       "    </tr>\n",
       "  </thead>\n",
       "  <tbody>\n",
       "    <tr>\n",
       "      <th>1348</th>\n",
       "      <td>850.765612</td>\n",
       "      <td>345.487167</td>\n",
       "      <td>-1.000000</td>\n",
       "      <td>0.002862</td>\n",
       "      <td>1233</td>\n",
       "      <td>3.526154</td>\n",
       "      <td>1048994.0</td>\n",
       "      <td>0</td>\n",
       "      <td>voip</td>\n",
       "    </tr>\n",
       "    <tr>\n",
       "      <th>3575</th>\n",
       "      <td>170.785714</td>\n",
       "      <td>384.539321</td>\n",
       "      <td>1.000000</td>\n",
       "      <td>0.019311</td>\n",
       "      <td>14</td>\n",
       "      <td>0.251042</td>\n",
       "      <td>2391.0</td>\n",
       "      <td>1</td>\n",
       "      <td>voip</td>\n",
       "    </tr>\n",
       "    <tr>\n",
       "      <th>889</th>\n",
       "      <td>170.785714</td>\n",
       "      <td>384.539321</td>\n",
       "      <td>1.000000</td>\n",
       "      <td>0.021926</td>\n",
       "      <td>14</td>\n",
       "      <td>0.285042</td>\n",
       "      <td>2391.0</td>\n",
       "      <td>1</td>\n",
       "      <td>voip</td>\n",
       "    </tr>\n",
       "    <tr>\n",
       "      <th>2104</th>\n",
       "      <td>192.323529</td>\n",
       "      <td>350.338167</td>\n",
       "      <td>1.125000</td>\n",
       "      <td>0.194919</td>\n",
       "      <td>34</td>\n",
       "      <td>6.432321</td>\n",
       "      <td>6539.0</td>\n",
       "      <td>1</td>\n",
       "      <td>streaming</td>\n",
       "    </tr>\n",
       "    <tr>\n",
       "      <th>2206</th>\n",
       "      <td>837.180556</td>\n",
       "      <td>667.089557</td>\n",
       "      <td>0.668449</td>\n",
       "      <td>0.001184</td>\n",
       "      <td>936</td>\n",
       "      <td>1.107098</td>\n",
       "      <td>783601.0</td>\n",
       "      <td>1</td>\n",
       "      <td>game</td>\n",
       "    </tr>\n",
       "    <tr>\n",
       "      <th>1537</th>\n",
       "      <td>1320.000000</td>\n",
       "      <td>0.000000</td>\n",
       "      <td>-1.000000</td>\n",
       "      <td>0.000085</td>\n",
       "      <td>795</td>\n",
       "      <td>0.067596</td>\n",
       "      <td>1049400.0</td>\n",
       "      <td>1</td>\n",
       "      <td>download</td>\n",
       "    </tr>\n",
       "    <tr>\n",
       "      <th>2663</th>\n",
       "      <td>51.000000</td>\n",
       "      <td>-1.000000</td>\n",
       "      <td>0.000000</td>\n",
       "      <td>-1.000000</td>\n",
       "      <td>1</td>\n",
       "      <td>0.003002</td>\n",
       "      <td>51.0</td>\n",
       "      <td>0</td>\n",
       "      <td>game</td>\n",
       "    </tr>\n",
       "    <tr>\n",
       "      <th>175</th>\n",
       "      <td>107.291667</td>\n",
       "      <td>199.128641</td>\n",
       "      <td>1.181818</td>\n",
       "      <td>0.244188</td>\n",
       "      <td>24</td>\n",
       "      <td>5.616323</td>\n",
       "      <td>2575.0</td>\n",
       "      <td>1</td>\n",
       "      <td>streaming</td>\n",
       "    </tr>\n",
       "    <tr>\n",
       "      <th>2540</th>\n",
       "      <td>68.000000</td>\n",
       "      <td>-1.000000</td>\n",
       "      <td>0.000000</td>\n",
       "      <td>-1.000000</td>\n",
       "      <td>1</td>\n",
       "      <td>0.016523</td>\n",
       "      <td>68.0</td>\n",
       "      <td>0</td>\n",
       "      <td>game</td>\n",
       "    </tr>\n",
       "    <tr>\n",
       "      <th>226</th>\n",
       "      <td>170.785714</td>\n",
       "      <td>384.539321</td>\n",
       "      <td>1.000000</td>\n",
       "      <td>0.019459</td>\n",
       "      <td>14</td>\n",
       "      <td>0.252972</td>\n",
       "      <td>2391.0</td>\n",
       "      <td>1</td>\n",
       "      <td>voip</td>\n",
       "    </tr>\n",
       "  </tbody>\n",
       "</table>\n",
       "</div>"
      ],
      "text/plain": [
       "      avg(pkt_len)  stddev(pkt_len)  fb_ratio  inter_arrival_time  pkt_count  \\\n",
       "1348    850.765612       345.487167 -1.000000            0.002862       1233   \n",
       "3575    170.785714       384.539321  1.000000            0.019311         14   \n",
       "889     170.785714       384.539321  1.000000            0.021926         14   \n",
       "2104    192.323529       350.338167  1.125000            0.194919         34   \n",
       "2206    837.180556       667.089557  0.668449            0.001184        936   \n",
       "1537   1320.000000         0.000000 -1.000000            0.000085        795   \n",
       "2663     51.000000        -1.000000  0.000000           -1.000000          1   \n",
       "175     107.291667       199.128641  1.181818            0.244188         24   \n",
       "2540     68.000000        -1.000000  0.000000           -1.000000          1   \n",
       "226     170.785714       384.539321  1.000000            0.019459         14   \n",
       "\n",
       "      duration    pkt_len  is_tcp    outcome  \n",
       "1348  3.526154  1048994.0       0       voip  \n",
       "3575  0.251042     2391.0       1       voip  \n",
       "889   0.285042     2391.0       1       voip  \n",
       "2104  6.432321     6539.0       1  streaming  \n",
       "2206  1.107098   783601.0       1       game  \n",
       "1537  0.067596  1049400.0       1   download  \n",
       "2663  0.003002       51.0       0       game  \n",
       "175   5.616323     2575.0       1  streaming  \n",
       "2540  0.016523       68.0       0       game  \n",
       "226   0.252972     2391.0       1       voip  "
      ]
     },
     "execution_count": 7,
     "metadata": {},
     "output_type": "execute_result"
    }
   ],
   "source": [
    "train_normal.head(10)"
   ]
  },
  {
   "cell_type": "code",
   "execution_count": 8,
   "metadata": {
    "collapsed": true
   },
   "outputs": [],
   "source": [
    "# train test split on no sampled data\n",
    "\n",
    "train_normal.to_csv('./train_70%.csv')\n",
    "test_normal.to_csv('./test_30%.csv')"
   ]
  },
  {
   "cell_type": "code",
   "execution_count": 9,
   "metadata": {
    "collapsed": true
   },
   "outputs": [],
   "source": [
    "# # train test split on upsampled data\n",
    "\n",
    "# train_normal.to_csv('/Users/tsaiflow/Desktop/NN&Sampling/data_upsampled_ddos(unb)_normal(own)/test/upsampled/upsampled_samp@80%_.csv')\n",
    "# test_normal.to_csv('/Users/tsaiflow/Desktop/NN&Sampling/data_upsampled_ddos(unb)_normal(own)/test/upsampled/upsampled_samp@80%_.csv')"
   ]
  },
  {
   "cell_type": "code",
   "execution_count": 10,
   "metadata": {
    "collapsed": true
   },
   "outputs": [],
   "source": [
    "# # train test split on upsampled data\n",
    "\n",
    "# train_normal.to_csv('/Users/tsaiflow/Desktop/NN&Sampling/data_upsampled_ddos(unb)_normal(own)/test/no_upsampled/train_nosampled_50%.csv')\n",
    "# test_normal.to_csv('/Users/tsaiflow/Desktop/NN&Sampling/data_upsampled_ddos(unb)_normal(own)/test/no_upsampled/test_nosampled_50%.csv')"
   ]
  },
  {
   "cell_type": "code",
   "execution_count": null,
   "metadata": {
    "collapsed": true
   },
   "outputs": [],
   "source": []
  }
 ],
 "metadata": {
  "kernelspec": {
   "display_name": "Python 3",
   "language": "python",
   "name": "python3"
  },
  "language_info": {
   "codemirror_mode": {
    "name": "ipython",
    "version": 3
   },
   "file_extension": ".py",
   "mimetype": "text/x-python",
   "name": "python",
   "nbconvert_exporter": "python",
   "pygments_lexer": "ipython3",
   "version": "3.6.1"
  }
 },
 "nbformat": 4,
 "nbformat_minor": 2
}
