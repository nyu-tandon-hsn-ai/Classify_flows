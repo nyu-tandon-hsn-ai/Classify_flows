{
 "cells": [
  {
   "cell_type": "code",
   "execution_count": 1,
   "metadata": {
    "collapsed": true
   },
   "outputs": [],
   "source": [
    "import pandas as pd\n",
    "import numpy as np"
   ]
  },
  {
   "cell_type": "code",
   "execution_count": 2,
   "metadata": {
    "collapsed": true
   },
   "outputs": [],
   "source": [
    "df_bili = pd.read_csv(\"./data/added_data_v3/bilibili_tcp_flow.csv\")\n",
    "df_bili.insert(loc=6, column='is_tcp', value='1')\n",
    "df_bili_u = pd.read_csv(\"./data/added_data_v3/bilibili_udp_flow.csv\")\n",
    "df_bili_u.insert(loc=6, column='is_tcp', value='0')\n",
    "df_bili = df_bili.append(df_bili_u)\n",
    "\n",
    "df_skype = pd.read_csv(\"./data/added_data_v3/Skype_HongKong_tcp_flow.csv\")\n",
    "df_skype.insert(loc=6, column='is_tcp', value='1')\n",
    "df_skype_u = pd.read_csv(\"./data/added_data_v3/Skype_HongKong_udp_flow.csv\")\n",
    "df_skype_u.insert(loc=6, column='is_tcp', value='0')\n",
    "df_skype = df_skype.append(df_skype_u)\n",
    "\n",
    "df_download = pd.read_csv(\"./data/added_data_v3/APP_DOWNLOAD_tcp_flow.csv\")\n",
    "df_download.insert(loc=6, column='is_tcp', value='1')\n",
    "df_download_u = pd.read_csv(\"./data/added_data_v3/APP_DOWNLOAD_udp_flow.csv\")\n",
    "df_download_u.insert(loc=6, column='is_tcp', value='0')\n",
    "df_download = df_download.append(df_download_u)\n",
    "\n",
    "df_LoL = pd.read_csv(\"./data/added_data_v3/LOL_AI_tcp_flow.csv\")\n",
    "df_LoL.insert(loc=6, column='is_tcp', value='1')\n",
    "df_LoL_u = pd.read_csv(\"./data/added_data_v3/LOL_AI_udp_flow.csv\")\n",
    "df_LoL_u.insert(loc=6, column='is_tcp', value='0')\n",
    "df_LoL = df_LoL.append(df_LoL_u)\n",
    "\n",
    "df_netease = pd.read_csv(\"./data/added_data_v3/netease_game_tcp_flow.csv\")\n",
    "df_netease.insert(loc=6, column='is_tcp', value='1')\n",
    "df_netease_u = pd.read_csv(\"./data/added_data_v3/netease_game_udp_flow.csv\")\n",
    "df_netease_u.insert(loc=6, column='is_tcp', value='0')\n",
    "df_netease = df_netease.append(df_netease_u)\n",
    "\n",
    "df_youtube = pd.read_csv(\"./data/added_data_v3/youtube_tcp_flow.csv\")\n",
    "df_youtube.insert(loc=6, column='is_tcp', value='1')\n",
    "df_youtube_u = pd.read_csv(\"./data/added_data_v3/youtube_udp_flow.csv\")\n",
    "df_youtube_u.insert(loc=6, column='is_tcp', value='0')\n",
    "df_youtube = df_youtube.append(df_youtube_u)\n",
    "\n",
    "df_tencent = pd.read_csv(\"./data/added_data_v3/tencent_game_na_tcp_flow.csv\")\n",
    "df_tencent.insert(loc=6, column='is_tcp', value='1')\n",
    "df_tencent_u = pd.read_csv(\"./data/added_data_v3/tencent_game_na_udp_flow.csv\")\n",
    "df_tencent_u.insert(loc=6, column='is_tcp', value='0')\n",
    "df_tencent = df_tencent.append(df_tencent_u)\n",
    "\n",
    "df_wechat = pd.read_csv(\"./data/added_data_v3/wechat_video_tcp_flow.csv\")\n",
    "df_wechat.insert(loc=6, column='is_tcp', value='1')\n",
    "df_wechat_u = pd.read_csv(\"./data/added_data_v3/wechat_video_udp_flow.csv\")\n",
    "df_wechat_u.insert(loc=6, column='is_tcp', value='0')\n",
    "df_wechat = df_wechat.append(df_wechat_u)\n",
    "\n",
    "df_google = pd.read_csv(\"./data/added_data_v3/google_drive_download_tcp_flow.csv\")\n",
    "df_google.insert(loc=6, column='is_tcp', value='1')\n",
    "df_google_u = pd.read_csv(\"./data/added_data_v3/google_drive_download_udp_flow.csv\")\n",
    "df_google_u.insert(loc=6, column='is_tcp', value='0')\n",
    "df_google = df_google.append(df_google_u)"
   ]
  },
  {
   "cell_type": "code",
   "execution_count": 3,
   "metadata": {
    "collapsed": true
   },
   "outputs": [],
   "source": [
    "## name of output\n",
    "output = \"./concatenate_v4_sameAmount.csv\""
   ]
  },
  {
   "cell_type": "code",
   "execution_count": 4,
   "metadata": {},
   "outputs": [
    {
     "name": "stdout",
     "output_type": "stream",
     "text": [
      "Read 336 rows.\n"
     ]
    }
   ],
   "source": [
    "print(\"Read {} rows.\".format(len(df_google)))\n"
   ]
  },
  {
   "cell_type": "code",
   "execution_count": 5,
   "metadata": {},
   "outputs": [
    {
     "data": {
      "text/html": [
       "<div>\n",
       "<style>\n",
       "    .dataframe thead tr:only-child th {\n",
       "        text-align: right;\n",
       "    }\n",
       "\n",
       "    .dataframe thead th {\n",
       "        text-align: left;\n",
       "    }\n",
       "\n",
       "    .dataframe tbody tr th {\n",
       "        vertical-align: top;\n",
       "    }\n",
       "</style>\n",
       "<table border=\"1\" class=\"dataframe\">\n",
       "  <thead>\n",
       "    <tr style=\"text-align: right;\">\n",
       "      <th></th>\n",
       "      <th>avg(pkt_len)</th>\n",
       "      <th>stddev(pkt_len)</th>\n",
       "      <th>fb_ratio</th>\n",
       "      <th>inter_arrival_time</th>\n",
       "      <th>pkt_count</th>\n",
       "      <th>duration</th>\n",
       "      <th>is_tcp</th>\n",
       "      <th>tot_pkt_len</th>\n",
       "      <th>fwd_pkt_len</th>\n",
       "      <th>bwd_pkt_len</th>\n",
       "    </tr>\n",
       "  </thead>\n",
       "  <tbody>\n",
       "    <tr>\n",
       "      <th>0</th>\n",
       "      <td>127.608696</td>\n",
       "      <td>200.746049</td>\n",
       "      <td>1.648917</td>\n",
       "      <td>0.258844</td>\n",
       "      <td>23</td>\n",
       "      <td>5.694573</td>\n",
       "      <td>1</td>\n",
       "      <td>2935.0</td>\n",
       "      <td>1827</td>\n",
       "      <td>1108.0</td>\n",
       "    </tr>\n",
       "    <tr>\n",
       "      <th>1</th>\n",
       "      <td>152.366667</td>\n",
       "      <td>322.643213</td>\n",
       "      <td>0.250445</td>\n",
       "      <td>3.683159</td>\n",
       "      <td>60</td>\n",
       "      <td>217.306407</td>\n",
       "      <td>1</td>\n",
       "      <td>9142.0</td>\n",
       "      <td>1831</td>\n",
       "      <td>7311.0</td>\n",
       "    </tr>\n",
       "    <tr>\n",
       "      <th>2</th>\n",
       "      <td>815.367807</td>\n",
       "      <td>635.379605</td>\n",
       "      <td>0.022415</td>\n",
       "      <td>0.001908</td>\n",
       "      <td>1286</td>\n",
       "      <td>2.452179</td>\n",
       "      <td>1</td>\n",
       "      <td>1048563.0</td>\n",
       "      <td>22988</td>\n",
       "      <td>1025575.0</td>\n",
       "    </tr>\n",
       "    <tr>\n",
       "      <th>3</th>\n",
       "      <td>56.514286</td>\n",
       "      <td>16.494833</td>\n",
       "      <td>-1.000000</td>\n",
       "      <td>2.581651</td>\n",
       "      <td>70</td>\n",
       "      <td>178.133886</td>\n",
       "      <td>1</td>\n",
       "      <td>3956.0</td>\n",
       "      <td>3956</td>\n",
       "      <td>0.0</td>\n",
       "    </tr>\n",
       "    <tr>\n",
       "      <th>4</th>\n",
       "      <td>124.041667</td>\n",
       "      <td>197.169642</td>\n",
       "      <td>1.593206</td>\n",
       "      <td>0.243110</td>\n",
       "      <td>24</td>\n",
       "      <td>5.591538</td>\n",
       "      <td>1</td>\n",
       "      <td>2977.0</td>\n",
       "      <td>1829</td>\n",
       "      <td>1148.0</td>\n",
       "    </tr>\n",
       "  </tbody>\n",
       "</table>\n",
       "</div>"
      ],
      "text/plain": [
       "   avg(pkt_len)  stddev(pkt_len)  fb_ratio  inter_arrival_time  pkt_count  \\\n",
       "0    127.608696       200.746049  1.648917            0.258844         23   \n",
       "1    152.366667       322.643213  0.250445            3.683159         60   \n",
       "2    815.367807       635.379605  0.022415            0.001908       1286   \n",
       "3     56.514286        16.494833 -1.000000            2.581651         70   \n",
       "4    124.041667       197.169642  1.593206            0.243110         24   \n",
       "\n",
       "     duration is_tcp  tot_pkt_len  fwd_pkt_len  bwd_pkt_len  \n",
       "0    5.694573      1       2935.0         1827       1108.0  \n",
       "1  217.306407      1       9142.0         1831       7311.0  \n",
       "2    2.452179      1    1048563.0        22988    1025575.0  \n",
       "3  178.133886      1       3956.0         3956          0.0  \n",
       "4    5.591538      1       2977.0         1829       1148.0  "
      ]
     },
     "execution_count": 5,
     "metadata": {},
     "output_type": "execute_result"
    }
   ],
   "source": [
    "df_bili.head(5)"
   ]
  },
  {
   "cell_type": "code",
   "execution_count": 6,
   "metadata": {
    "collapsed": true
   },
   "outputs": [],
   "source": [
    "df_bili.insert(loc=10, column='outcome', value='streaming')\n",
    "df_skype.insert(loc=10, column='outcome', value='voip')\n",
    "df_download.insert(loc=10, column='outcome', value='download')\n",
    "df_LoL.insert(loc=10, column='outcome', value='game')\n",
    "df_netease.insert(loc=10, column='outcome', value='game')\n",
    "df_youtube.insert(loc=10, column='outcome', value='streaming')\n",
    "df_tencent.insert(loc=10, column='outcome', value='game')\n",
    "df_wechat.insert(loc=10, column='outcome', value='voip')\n",
    "df_google.insert(loc=10, column='outcome', value='download')"
   ]
  },
  {
   "cell_type": "code",
   "execution_count": 7,
   "metadata": {
    "collapsed": true
   },
   "outputs": [],
   "source": [
    "# df_concat = pd.concat([df_bili, df_skype, df_download, df_LoL, df_netease, df_youtube, df_tencent, df_wechat, df_google\n",
    "#                       ], ignore_index=True)"
   ]
  },
  {
   "cell_type": "code",
   "execution_count": 8,
   "metadata": {},
   "outputs": [],
   "source": [
    "# # df_1x.head(5)\n",
    "# print(\"Read {} rows.\".format(len(df_concat)))\n",
    "# # print(\"Missing values:\")\n",
    "# # print(format(df_google.isnull().sum()))"
   ]
  },
  {
   "cell_type": "code",
   "execution_count": null,
   "metadata": {},
   "outputs": [],
   "source": []
  },
  {
   "cell_type": "code",
   "execution_count": 9,
   "metadata": {
    "collapsed": true
   },
   "outputs": [],
   "source": [
    "df_voip = pd.concat([df_wechat, df_skype], ignore_index=True)\n",
    "df_streaming = pd.concat([df_youtube, df_bili], ignore_index=True)\n",
    "df_game = pd.concat([df_tencent, df_LoL, df_netease], ignore_index=True)\n",
    "df_down = pd.concat([df_google, df_download], ignore_index=True)"
   ]
  },
  {
   "cell_type": "code",
   "execution_count": 10,
   "metadata": {},
   "outputs": [
    {
     "name": "stdout",
     "output_type": "stream",
     "text": [
      "Read voip 3157 rows.\n",
      "Read streaming 498 rows.\n",
      "Read game 607 rows.\n",
      "Read down 729 rows.\n"
     ]
    }
   ],
   "source": [
    "print(\"Read voip {} rows.\".format(len(df_voip)))\n",
    "print(\"Read streaming {} rows.\".format(len(df_streaming)))\n",
    "print(\"Read game {} rows.\".format(len(df_game)))\n",
    "print(\"Read down {} rows.\".format(len(df_down)))"
   ]
  },
  {
   "cell_type": "code",
   "execution_count": 11,
   "metadata": {
    "collapsed": true
   },
   "outputs": [],
   "source": [
    "df_concat = pd.concat([df_voip.sample(n=500), \n",
    "                       df_streaming.sample(n=498), \n",
    "                       df_game.sample(n=500), \n",
    "                       df_down.sample(n=500)] , ignore_index=True)"
   ]
  },
  {
   "cell_type": "code",
   "execution_count": 12,
   "metadata": {},
   "outputs": [],
   "source": [
    "df_concat = df_concat.sample(frac=1).reset_index(drop=True)"
   ]
  },
  {
   "cell_type": "code",
   "execution_count": 13,
   "metadata": {},
   "outputs": [
    {
     "data": {
      "text/html": [
       "<div>\n",
       "<style>\n",
       "    .dataframe thead tr:only-child th {\n",
       "        text-align: right;\n",
       "    }\n",
       "\n",
       "    .dataframe thead th {\n",
       "        text-align: left;\n",
       "    }\n",
       "\n",
       "    .dataframe tbody tr th {\n",
       "        vertical-align: top;\n",
       "    }\n",
       "</style>\n",
       "<table border=\"1\" class=\"dataframe\">\n",
       "  <thead>\n",
       "    <tr style=\"text-align: right;\">\n",
       "      <th></th>\n",
       "      <th>avg(pkt_len)</th>\n",
       "      <th>stddev(pkt_len)</th>\n",
       "      <th>fb_ratio</th>\n",
       "      <th>inter_arrival_time</th>\n",
       "      <th>pkt_count</th>\n",
       "      <th>duration</th>\n",
       "      <th>is_tcp</th>\n",
       "      <th>tot_pkt_len</th>\n",
       "      <th>fwd_pkt_len</th>\n",
       "      <th>bwd_pkt_len</th>\n",
       "      <th>outcome</th>\n",
       "    </tr>\n",
       "  </thead>\n",
       "  <tbody>\n",
       "    <tr>\n",
       "      <th>0</th>\n",
       "      <td>1351.216495</td>\n",
       "      <td>21.825928</td>\n",
       "      <td>-1.000000</td>\n",
       "      <td>0.002169</td>\n",
       "      <td>776</td>\n",
       "      <td>1.680606</td>\n",
       "      <td>1</td>\n",
       "      <td>1048544.0</td>\n",
       "      <td>1048544</td>\n",
       "      <td>0.0</td>\n",
       "      <td>streaming</td>\n",
       "    </tr>\n",
       "    <tr>\n",
       "      <th>1</th>\n",
       "      <td>1352.000000</td>\n",
       "      <td>0.000000</td>\n",
       "      <td>-1.000000</td>\n",
       "      <td>0.000096</td>\n",
       "      <td>775</td>\n",
       "      <td>0.074181</td>\n",
       "      <td>1</td>\n",
       "      <td>1047800.0</td>\n",
       "      <td>1047800</td>\n",
       "      <td>0.0</td>\n",
       "      <td>download</td>\n",
       "    </tr>\n",
       "    <tr>\n",
       "      <th>2</th>\n",
       "      <td>1308.384519</td>\n",
       "      <td>120.063304</td>\n",
       "      <td>-1.000000</td>\n",
       "      <td>0.002301</td>\n",
       "      <td>801</td>\n",
       "      <td>1.841134</td>\n",
       "      <td>1</td>\n",
       "      <td>1048016.0</td>\n",
       "      <td>1048016</td>\n",
       "      <td>0.0</td>\n",
       "      <td>streaming</td>\n",
       "    </tr>\n",
       "    <tr>\n",
       "      <th>3</th>\n",
       "      <td>1423.619469</td>\n",
       "      <td>97.135910</td>\n",
       "      <td>-1.000000</td>\n",
       "      <td>0.055105</td>\n",
       "      <td>565</td>\n",
       "      <td>31.079112</td>\n",
       "      <td>1</td>\n",
       "      <td>804345.0</td>\n",
       "      <td>804345</td>\n",
       "      <td>0.0</td>\n",
       "      <td>game</td>\n",
       "    </tr>\n",
       "    <tr>\n",
       "      <th>4</th>\n",
       "      <td>195.933333</td>\n",
       "      <td>371.472834</td>\n",
       "      <td>0.271744</td>\n",
       "      <td>0.162144</td>\n",
       "      <td>15</td>\n",
       "      <td>2.270020</td>\n",
       "      <td>1</td>\n",
       "      <td>2939.0</td>\n",
       "      <td>628</td>\n",
       "      <td>2311.0</td>\n",
       "      <td>voip</td>\n",
       "    </tr>\n",
       "  </tbody>\n",
       "</table>\n",
       "</div>"
      ],
      "text/plain": [
       "   avg(pkt_len)  stddev(pkt_len)  fb_ratio  inter_arrival_time pkt_count  \\\n",
       "0   1351.216495        21.825928 -1.000000            0.002169       776   \n",
       "1   1352.000000         0.000000 -1.000000            0.000096       775   \n",
       "2   1308.384519       120.063304 -1.000000            0.002301       801   \n",
       "3   1423.619469        97.135910 -1.000000            0.055105       565   \n",
       "4    195.933333       371.472834  0.271744            0.162144        15   \n",
       "\n",
       "    duration is_tcp  tot_pkt_len fwd_pkt_len  bwd_pkt_len    outcome  \n",
       "0   1.680606      1    1048544.0     1048544          0.0  streaming  \n",
       "1   0.074181      1    1047800.0     1047800          0.0   download  \n",
       "2   1.841134      1    1048016.0     1048016          0.0  streaming  \n",
       "3  31.079112      1     804345.0      804345          0.0       game  \n",
       "4   2.270020      1       2939.0         628       2311.0       voip  "
      ]
     },
     "execution_count": 13,
     "metadata": {},
     "output_type": "execute_result"
    }
   ],
   "source": [
    "df_concat.head(5)"
   ]
  },
  {
   "cell_type": "code",
   "execution_count": 14,
   "metadata": {
    "collapsed": true
   },
   "outputs": [],
   "source": [
    "df_concat.to_csv(output)"
   ]
  },
  {
   "cell_type": "code",
   "execution_count": null,
   "metadata": {
    "collapsed": true
   },
   "outputs": [],
   "source": []
  },
  {
   "cell_type": "code",
   "execution_count": null,
   "metadata": {},
   "outputs": [],
   "source": [
    "'STOPS HERE'\n",
    "pp"
   ]
  },
  {
   "cell_type": "code",
   "execution_count": null,
   "metadata": {
    "collapsed": true
   },
   "outputs": [],
   "source": [
    "# df_voip.to_csv(\"./voip.csv\")\n",
    "# df_streaming.to_csv(\"./streaming.csv\")\n",
    "# df_game.to_csv(\"./game.csv\")\n",
    "# df_down.to_csv(\"./download.csv\")"
   ]
  },
  {
   "cell_type": "code",
   "execution_count": null,
   "metadata": {
    "collapsed": true
   },
   "outputs": [],
   "source": [
    "df_voip = df_voip.drop([\"is_tcp\",\"outcome\"],axis=1)\n",
    "df_streaming = df_streaming.drop([\"is_tcp\",\"outcome\"],axis=1)\n",
    "df_game = df_game.drop([\"is_tcp\",\"outcome\"],axis=1)\n",
    "df_down = df_down.drop([\"is_tcp\",\"outcome\"],axis=1)"
   ]
  },
  {
   "cell_type": "code",
   "execution_count": null,
   "metadata": {
    "collapsed": true
   },
   "outputs": [],
   "source": [
    "df_down['pkt_count'] = df_down['pkt_count'].apply(pd.to_numeric)\n",
    "df_down['fwd_pkt_len'] = df_down['fwd_pkt_len'].apply(pd.to_numeric)\n",
    "df_game['pkt_count'] = df_game['pkt_count'].apply(pd.to_numeric)\n",
    "df_game['fwd_pkt_len'] = df_game['fwd_pkt_len'].apply(pd.to_numeric)"
   ]
  },
  {
   "cell_type": "code",
   "execution_count": null,
   "metadata": {},
   "outputs": [],
   "source": [
    "df_voip.sample(n=10)"
   ]
  },
  {
   "cell_type": "code",
   "execution_count": null,
   "metadata": {
    "collapsed": true
   },
   "outputs": [],
   "source": [
    "df_down_mean=df_down.mean(axis=0)\n",
    "df_down_std=df_down.std(axis=0)\n",
    "\n",
    "df_game_mean=df_game.mean(axis=0)\n",
    "df_game_std=df_game.std(axis=0)\n",
    "\n",
    "df_streaming_mean=df_streaming.mean(axis=0)\n",
    "df_streaming_std=df_streaming.std(axis=0)\n",
    "\n",
    "df_voip_mean=df_voip.mean(axis=0)\n",
    "df_voip_std=df_voip.std(axis=0)"
   ]
  },
  {
   "cell_type": "code",
   "execution_count": null,
   "metadata": {
    "collapsed": true
   },
   "outputs": [],
   "source": [
    "df_down_des = df_down.describe(include='all')\n",
    "df_streaming_des = df_streaming.describe()\n",
    "df_voip_des = df_voip.describe()\n",
    "df_game_des = df_game.describe()"
   ]
  },
  {
   "cell_type": "code",
   "execution_count": null,
   "metadata": {},
   "outputs": [],
   "source": [
    "df_streaming_des"
   ]
  },
  {
   "cell_type": "code",
   "execution_count": null,
   "metadata": {
    "collapsed": true
   },
   "outputs": [],
   "source": [
    "mean = pd.DataFrame(np.array([df_down_mean,\n",
    "                              df_game_mean,\n",
    "                              df_streaming_mean,\n",
    "                              df_voip_mean\n",
    "                             ]),\n",
    "                   columns=[\"avg(pkt_len)\",\n",
    "                            \"stddev(pkt_len)\",\n",
    "                            \"fb_ratio\",\n",
    "                            \"inter_arrival_time\",\n",
    "                            \"pkt_count\",\n",
    "                            \"duration\",\n",
    "                           \"tot_pkt_len\",\n",
    "                           \"fwd_pkt_len\",\n",
    "                           \"bwd_pkt_len\"])\n",
    "\n",
    "mean = mean.rename({0: \"download\", 1: \"game\", 2: \"streaming\", 3: \"voip\"})"
   ]
  },
  {
   "cell_type": "code",
   "execution_count": null,
   "metadata": {},
   "outputs": [],
   "source": [
    "df_voip_des"
   ]
  },
  {
   "cell_type": "code",
   "execution_count": null,
   "metadata": {
    "collapsed": true
   },
   "outputs": [],
   "source": [
    "std = pd.DataFrame(np.array([df_down_std,\n",
    "                              df_game_std,\n",
    "                              df_streaming_std,\n",
    "                              df_voip_std\n",
    "                             ]),\n",
    "                   columns=[\"avg(pkt_len)\",\n",
    "                            \"stddev(pkt_len)\",\n",
    "                            \"fb_ratio\",\n",
    "                            \"inter_arrival_time\",\n",
    "                            \"pkt_count\",\n",
    "                            \"duration\",\n",
    "                            \"tot_pkt_len\",\n",
    "                           \"fwd_pkt_len\",\n",
    "                           \"bwd_pkt_len\"])\n",
    "\n",
    "std = std.rename({0: \"download\", 1: \"game\", 2: \"streaming\", 3: \"voip\"})"
   ]
  },
  {
   "cell_type": "code",
   "execution_count": null,
   "metadata": {},
   "outputs": [],
   "source": [
    "mean"
   ]
  },
  {
   "cell_type": "code",
   "execution_count": null,
   "metadata": {},
   "outputs": [],
   "source": [
    "std"
   ]
  },
  {
   "cell_type": "code",
   "execution_count": null,
   "metadata": {},
   "outputs": [],
   "source": [
    "df_game.corrwith(df_voip)"
   ]
  },
  {
   "cell_type": "code",
   "execution_count": null,
   "metadata": {},
   "outputs": [],
   "source": [
    "df_voip.corrwith(df_down)"
   ]
  },
  {
   "cell_type": "code",
   "execution_count": null,
   "metadata": {},
   "outputs": [],
   "source": [
    "df_voip.corrwith(df_streaming)"
   ]
  },
  {
   "cell_type": "code",
   "execution_count": null,
   "metadata": {},
   "outputs": [],
   "source": [
    "df_voip.corrwith(df_game)"
   ]
  },
  {
   "cell_type": "code",
   "execution_count": null,
   "metadata": {},
   "outputs": [],
   "source": [
    "df_streaming.corrwith(df_game)"
   ]
  },
  {
   "cell_type": "code",
   "execution_count": null,
   "metadata": {
    "collapsed": true
   },
   "outputs": [],
   "source": []
  }
 ],
 "metadata": {
  "kernelspec": {
   "display_name": "Python 3",
   "language": "python",
   "name": "python3"
  },
  "language_info": {
   "codemirror_mode": {
    "name": "ipython",
    "version": 3
   },
   "file_extension": ".py",
   "mimetype": "text/x-python",
   "name": "python",
   "nbconvert_exporter": "python",
   "pygments_lexer": "ipython3",
   "version": "3.6.1"
  }
 },
 "nbformat": 4,
 "nbformat_minor": 2
}
