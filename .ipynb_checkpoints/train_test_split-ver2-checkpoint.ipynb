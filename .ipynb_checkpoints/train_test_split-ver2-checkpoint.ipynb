{
 "cells": [
  {
   "cell_type": "code",
   "execution_count": 1,
   "metadata": {
    "collapsed": true
   },
   "outputs": [],
   "source": [
    "import pandas as pd\n",
    "from sklearn.model_selection import train_test_split\n",
    "import numpy as np"
   ]
  },
  {
   "cell_type": "code",
   "execution_count": 2,
   "metadata": {},
   "outputs": [
    {
     "name": "stdout",
     "output_type": "stream",
     "text": [
      "17715\n"
     ]
    }
   ],
   "source": [
    "df = pd.read_csv(\"./concatenate.csv\")\n",
    "df = df.drop(df.columns[0], axis=1)\n",
    "\n",
    "df = df.dropna(axis=0, how='any')\n",
    "print(len(df))"
   ]
  },
  {
   "cell_type": "code",
   "execution_count": 3,
   "metadata": {},
   "outputs": [
    {
     "data": {
      "text/html": [
       "<div>\n",
       "<style>\n",
       "    .dataframe thead tr:only-child th {\n",
       "        text-align: right;\n",
       "    }\n",
       "\n",
       "    .dataframe thead th {\n",
       "        text-align: left;\n",
       "    }\n",
       "\n",
       "    .dataframe tbody tr th {\n",
       "        vertical-align: top;\n",
       "    }\n",
       "</style>\n",
       "<table border=\"1\" class=\"dataframe\">\n",
       "  <thead>\n",
       "    <tr style=\"text-align: right;\">\n",
       "      <th></th>\n",
       "      <th>avg(pkt_len)</th>\n",
       "      <th>stddev(pkt_len)</th>\n",
       "      <th>fb_ratio</th>\n",
       "      <th>inter_arrival_time</th>\n",
       "      <th>pkt_count</th>\n",
       "      <th>duration</th>\n",
       "      <th>is_tcp</th>\n",
       "      <th>outcome</th>\n",
       "    </tr>\n",
       "  </thead>\n",
       "  <tbody>\n",
       "    <tr>\n",
       "      <th>0</th>\n",
       "      <td>4.428571</td>\n",
       "      <td>11.716899</td>\n",
       "      <td>0.750000</td>\n",
       "      <td>0.014521</td>\n",
       "      <td>7</td>\n",
       "      <td>0.087127</td>\n",
       "      <td>1</td>\n",
       "      <td>streaming</td>\n",
       "    </tr>\n",
       "    <tr>\n",
       "      <th>1</th>\n",
       "      <td>968.331541</td>\n",
       "      <td>546.154113</td>\n",
       "      <td>3.292308</td>\n",
       "      <td>0.000081</td>\n",
       "      <td>558</td>\n",
       "      <td>0.044855</td>\n",
       "      <td>1</td>\n",
       "      <td>streaming</td>\n",
       "    </tr>\n",
       "    <tr>\n",
       "      <th>2</th>\n",
       "      <td>1044.833676</td>\n",
       "      <td>491.751095</td>\n",
       "      <td>5.012346</td>\n",
       "      <td>0.001478</td>\n",
       "      <td>487</td>\n",
       "      <td>0.718186</td>\n",
       "      <td>1</td>\n",
       "      <td>streaming</td>\n",
       "    </tr>\n",
       "    <tr>\n",
       "      <th>3</th>\n",
       "      <td>69.000000</td>\n",
       "      <td>119.511506</td>\n",
       "      <td>0.500000</td>\n",
       "      <td>0.127108</td>\n",
       "      <td>3</td>\n",
       "      <td>0.254215</td>\n",
       "      <td>1</td>\n",
       "      <td>streaming</td>\n",
       "    </tr>\n",
       "    <tr>\n",
       "      <th>4</th>\n",
       "      <td>57.333333</td>\n",
       "      <td>91.701963</td>\n",
       "      <td>0.800000</td>\n",
       "      <td>0.115956</td>\n",
       "      <td>9</td>\n",
       "      <td>0.927650</td>\n",
       "      <td>1</td>\n",
       "      <td>streaming</td>\n",
       "    </tr>\n",
       "  </tbody>\n",
       "</table>\n",
       "</div>"
      ],
      "text/plain": [
       "   avg(pkt_len)  stddev(pkt_len)  fb_ratio  inter_arrival_time  pkt_count  \\\n",
       "0      4.428571        11.716899  0.750000            0.014521          7   \n",
       "1    968.331541       546.154113  3.292308            0.000081        558   \n",
       "2   1044.833676       491.751095  5.012346            0.001478        487   \n",
       "3     69.000000       119.511506  0.500000            0.127108          3   \n",
       "4     57.333333        91.701963  0.800000            0.115956          9   \n",
       "\n",
       "   duration  is_tcp    outcome  \n",
       "0  0.087127       1  streaming  \n",
       "1  0.044855       1  streaming  \n",
       "2  0.718186       1  streaming  \n",
       "3  0.254215       1  streaming  \n",
       "4  0.927650       1  streaming  "
      ]
     },
     "execution_count": 3,
     "metadata": {},
     "output_type": "execute_result"
    }
   ],
   "source": [
    "df.head(5)"
   ]
  },
  {
   "cell_type": "code",
   "execution_count": 4,
   "metadata": {},
   "outputs": [
    {
     "name": "stdout",
     "output_type": "stream",
     "text": [
      "streaming 1270\n",
      "voip 8564\n",
      "download 830\n",
      "game 7051\n"
     ]
    }
   ],
   "source": [
    "for item in df.outcome.unique():\n",
    "    print (item, (df.outcome == item).sum())"
   ]
  },
  {
   "cell_type": "code",
   "execution_count": null,
   "metadata": {
    "collapsed": true
   },
   "outputs": [],
   "source": []
  },
  {
   "cell_type": "code",
   "execution_count": 5,
   "metadata": {
    "collapsed": true
   },
   "outputs": [],
   "source": [
    "## change to 0.50 0.25 0.75\n",
    "\n",
    "## train : test = 7 : 3\n",
    "train_normal, test_normal = train_test_split(df, test_size=0.3)\n",
    "\n",
    "# ## train : test = 0.75 : 0.25\n",
    "# train_normal, test_normal = train_test_split(df_normal, test_size=0.75)\n",
    "\n",
    "# ## train : test = 0.25 : 0.75\n",
    "# train_normal, test_normal = train_test_split(df_normal, test_size=0.25)"
   ]
  },
  {
   "cell_type": "code",
   "execution_count": 6,
   "metadata": {},
   "outputs": [
    {
     "name": "stdout",
     "output_type": "stream",
     "text": [
      "12400 5315\n"
     ]
    }
   ],
   "source": [
    "print(len(train_normal),len(test_normal))"
   ]
  },
  {
   "cell_type": "code",
   "execution_count": 7,
   "metadata": {},
   "outputs": [
    {
     "data": {
      "text/html": [
       "<div>\n",
       "<style>\n",
       "    .dataframe thead tr:only-child th {\n",
       "        text-align: right;\n",
       "    }\n",
       "\n",
       "    .dataframe thead th {\n",
       "        text-align: left;\n",
       "    }\n",
       "\n",
       "    .dataframe tbody tr th {\n",
       "        vertical-align: top;\n",
       "    }\n",
       "</style>\n",
       "<table border=\"1\" class=\"dataframe\">\n",
       "  <thead>\n",
       "    <tr style=\"text-align: right;\">\n",
       "      <th></th>\n",
       "      <th>avg(pkt_len)</th>\n",
       "      <th>stddev(pkt_len)</th>\n",
       "      <th>fb_ratio</th>\n",
       "      <th>inter_arrival_time</th>\n",
       "      <th>pkt_count</th>\n",
       "      <th>duration</th>\n",
       "      <th>is_tcp</th>\n",
       "      <th>outcome</th>\n",
       "    </tr>\n",
       "  </thead>\n",
       "  <tbody>\n",
       "    <tr>\n",
       "      <th>17415</th>\n",
       "      <td>476.744186</td>\n",
       "      <td>455.723658</td>\n",
       "      <td>1.866667</td>\n",
       "      <td>0.023741</td>\n",
       "      <td>43</td>\n",
       "      <td>0.997141</td>\n",
       "      <td>0</td>\n",
       "      <td>voip</td>\n",
       "    </tr>\n",
       "    <tr>\n",
       "      <th>17927</th>\n",
       "      <td>176.956044</td>\n",
       "      <td>330.176448</td>\n",
       "      <td>-1.000000</td>\n",
       "      <td>0.011097</td>\n",
       "      <td>91</td>\n",
       "      <td>0.998755</td>\n",
       "      <td>0</td>\n",
       "      <td>voip</td>\n",
       "    </tr>\n",
       "    <tr>\n",
       "      <th>2381</th>\n",
       "      <td>582.329457</td>\n",
       "      <td>374.212257</td>\n",
       "      <td>-1.000000</td>\n",
       "      <td>0.003853</td>\n",
       "      <td>258</td>\n",
       "      <td>0.990259</td>\n",
       "      <td>0</td>\n",
       "      <td>voip</td>\n",
       "    </tr>\n",
       "    <tr>\n",
       "      <th>15128</th>\n",
       "      <td>0.000000</td>\n",
       "      <td>0.000000</td>\n",
       "      <td>-1.000000</td>\n",
       "      <td>0.193262</td>\n",
       "      <td>2</td>\n",
       "      <td>0.193262</td>\n",
       "      <td>1</td>\n",
       "      <td>voip</td>\n",
       "    </tr>\n",
       "    <tr>\n",
       "      <th>17801</th>\n",
       "      <td>472.983051</td>\n",
       "      <td>566.781150</td>\n",
       "      <td>-1.000000</td>\n",
       "      <td>0.008524</td>\n",
       "      <td>118</td>\n",
       "      <td>0.997261</td>\n",
       "      <td>0</td>\n",
       "      <td>voip</td>\n",
       "    </tr>\n",
       "    <tr>\n",
       "      <th>2395</th>\n",
       "      <td>652.591078</td>\n",
       "      <td>402.699413</td>\n",
       "      <td>-1.000000</td>\n",
       "      <td>0.003638</td>\n",
       "      <td>269</td>\n",
       "      <td>0.974936</td>\n",
       "      <td>0</td>\n",
       "      <td>voip</td>\n",
       "    </tr>\n",
       "    <tr>\n",
       "      <th>2858</th>\n",
       "      <td>813.751429</td>\n",
       "      <td>343.954990</td>\n",
       "      <td>-1.000000</td>\n",
       "      <td>0.002845</td>\n",
       "      <td>350</td>\n",
       "      <td>0.992912</td>\n",
       "      <td>0</td>\n",
       "      <td>voip</td>\n",
       "    </tr>\n",
       "    <tr>\n",
       "      <th>14352</th>\n",
       "      <td>30.000000</td>\n",
       "      <td>-1.000000</td>\n",
       "      <td>-1.000000</td>\n",
       "      <td>-1.000000</td>\n",
       "      <td>1</td>\n",
       "      <td>0.409896</td>\n",
       "      <td>0</td>\n",
       "      <td>game</td>\n",
       "    </tr>\n",
       "    <tr>\n",
       "      <th>15859</th>\n",
       "      <td>0.000000</td>\n",
       "      <td>0.000000</td>\n",
       "      <td>-1.000000</td>\n",
       "      <td>0.100302</td>\n",
       "      <td>3</td>\n",
       "      <td>0.200603</td>\n",
       "      <td>1</td>\n",
       "      <td>voip</td>\n",
       "    </tr>\n",
       "    <tr>\n",
       "      <th>9635</th>\n",
       "      <td>3.875000</td>\n",
       "      <td>10.960155</td>\n",
       "      <td>1.000000</td>\n",
       "      <td>0.001210</td>\n",
       "      <td>8</td>\n",
       "      <td>0.008473</td>\n",
       "      <td>1</td>\n",
       "      <td>game</td>\n",
       "    </tr>\n",
       "  </tbody>\n",
       "</table>\n",
       "</div>"
      ],
      "text/plain": [
       "       avg(pkt_len)  stddev(pkt_len)  fb_ratio  inter_arrival_time  pkt_count  \\\n",
       "17415    476.744186       455.723658  1.866667            0.023741         43   \n",
       "17927    176.956044       330.176448 -1.000000            0.011097         91   \n",
       "2381     582.329457       374.212257 -1.000000            0.003853        258   \n",
       "15128      0.000000         0.000000 -1.000000            0.193262          2   \n",
       "17801    472.983051       566.781150 -1.000000            0.008524        118   \n",
       "2395     652.591078       402.699413 -1.000000            0.003638        269   \n",
       "2858     813.751429       343.954990 -1.000000            0.002845        350   \n",
       "14352     30.000000        -1.000000 -1.000000           -1.000000          1   \n",
       "15859      0.000000         0.000000 -1.000000            0.100302          3   \n",
       "9635       3.875000        10.960155  1.000000            0.001210          8   \n",
       "\n",
       "       duration  is_tcp outcome  \n",
       "17415  0.997141       0    voip  \n",
       "17927  0.998755       0    voip  \n",
       "2381   0.990259       0    voip  \n",
       "15128  0.193262       1    voip  \n",
       "17801  0.997261       0    voip  \n",
       "2395   0.974936       0    voip  \n",
       "2858   0.992912       0    voip  \n",
       "14352  0.409896       0    game  \n",
       "15859  0.200603       1    voip  \n",
       "9635   0.008473       1    game  "
      ]
     },
     "execution_count": 7,
     "metadata": {},
     "output_type": "execute_result"
    }
   ],
   "source": [
    "train_normal.head(10)"
   ]
  },
  {
   "cell_type": "code",
   "execution_count": 8,
   "metadata": {
    "collapsed": true
   },
   "outputs": [],
   "source": [
    "# train test split on no sampled data\n",
    "\n",
    "train_normal.to_csv('./train_70%.csv')\n",
    "test_normal.to_csv('./test_30%.csv')"
   ]
  },
  {
   "cell_type": "code",
   "execution_count": null,
   "metadata": {
    "collapsed": true
   },
   "outputs": [],
   "source": [
    "# # train test split on upsampled data\n",
    "\n",
    "# train_normal.to_csv('/Users/tsaiflow/Desktop/NN&Sampling/data_upsampled_ddos(unb)_normal(own)/test/upsampled/upsampled_samp@80%_.csv')\n",
    "# test_normal.to_csv('/Users/tsaiflow/Desktop/NN&Sampling/data_upsampled_ddos(unb)_normal(own)/test/upsampled/upsampled_samp@80%_.csv')"
   ]
  },
  {
   "cell_type": "code",
   "execution_count": null,
   "metadata": {
    "collapsed": true
   },
   "outputs": [],
   "source": [
    "# # train test split on upsampled data\n",
    "\n",
    "# train_normal.to_csv('/Users/tsaiflow/Desktop/NN&Sampling/data_upsampled_ddos(unb)_normal(own)/test/no_upsampled/train_nosampled_50%.csv')\n",
    "# test_normal.to_csv('/Users/tsaiflow/Desktop/NN&Sampling/data_upsampled_ddos(unb)_normal(own)/test/no_upsampled/test_nosampled_50%.csv')"
   ]
  },
  {
   "cell_type": "code",
   "execution_count": null,
   "metadata": {
    "collapsed": true
   },
   "outputs": [],
   "source": []
  }
 ],
 "metadata": {
  "kernelspec": {
   "display_name": "Python 3",
   "language": "python",
   "name": "python3"
  },
  "language_info": {
   "codemirror_mode": {
    "name": "ipython",
    "version": 3
   },
   "file_extension": ".py",
   "mimetype": "text/x-python",
   "name": "python",
   "nbconvert_exporter": "python",
   "pygments_lexer": "ipython3",
   "version": "3.6.1"
  }
 },
 "nbformat": 4,
 "nbformat_minor": 2
}
