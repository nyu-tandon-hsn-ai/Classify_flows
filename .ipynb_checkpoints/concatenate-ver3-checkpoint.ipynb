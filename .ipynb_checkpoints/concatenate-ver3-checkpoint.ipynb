{
 "cells": [
  {
   "cell_type": "code",
   "execution_count": 1,
   "metadata": {
    "collapsed": true
   },
   "outputs": [],
   "source": [
    "import pandas as pd"
   ]
  },
  {
   "cell_type": "code",
   "execution_count": 2,
   "metadata": {
    "collapsed": true
   },
   "outputs": [],
   "source": [
    "df_bili = pd.read_csv(\"./data/added_data_v2/bilibili_tcp_flow.csv\")\n",
    "df_bili.insert(loc=7, column='is_tcp', value='1')\n",
    "df_bili_u = pd.read_csv(\"./data/added_data_v2/bilibili_udp_flow.csv\")\n",
    "df_bili_u.insert(loc=7, column='is_tcp', value='0')\n",
    "df_bili = df_bili.append(df_bili_u)\n",
    "\n",
    "df_skype = pd.read_csv(\"./data/added_data_v2/Skype_HongKong_tcp_flow.csv\")\n",
    "df_skype.insert(loc=7, column='is_tcp', value='1')\n",
    "df_skype_u = pd.read_csv(\"./data/added_data_v2/Skype_HongKong_udp_flow.csv\")\n",
    "df_skype_u.insert(loc=7, column='is_tcp', value='0')\n",
    "df_skype = df_skype.append(df_skype_u)\n",
    "\n",
    "df_download = pd.read_csv(\"./data/added_data_v2/APP_DOWNLOAD_tcp_flow.csv\")\n",
    "df_download.insert(loc=7, column='is_tcp', value='1')\n",
    "df_download_u = pd.read_csv(\"./data/added_data_v2/APP_DOWNLOAD_udp_flow.csv\")\n",
    "df_download_u.insert(loc=7, column='is_tcp', value='0')\n",
    "df_download = df_download.append(df_download_u)\n",
    "\n",
    "df_LoL = pd.read_csv(\"./data/added_data_v2/LOL_AI_tcp_flow.csv\")\n",
    "df_LoL.insert(loc=7, column='is_tcp', value='1')\n",
    "df_LoL_u = pd.read_csv(\"./data/added_data_v2/LOL_AI_udp_flow.csv\")\n",
    "df_LoL_u.insert(loc=7, column='is_tcp', value='0')\n",
    "df_LoL = df_LoL.append(df_LoL_u)\n",
    "\n",
    "df_netease = pd.read_csv(\"./data/added_data_v2/netease_game_tcp_flow.csv\")\n",
    "df_netease.insert(loc=7, column='is_tcp', value='1')\n",
    "df_netease_u = pd.read_csv(\"./data/added_data_v2/netease_game_udp_flow.csv\")\n",
    "df_netease_u.insert(loc=7, column='is_tcp', value='0')\n",
    "df_netease = df_netease.append(df_netease_u)\n",
    "\n",
    "df_youtube = pd.read_csv(\"./data/added_data_v2/youtube_tcp_flow.csv\")\n",
    "df_youtube.insert(loc=7, column='is_tcp', value='1')\n",
    "df_youtube_u = pd.read_csv(\"./data/added_data_v2/youtube_udp_flow.csv\")\n",
    "df_youtube_u.insert(loc=7, column='is_tcp', value='0')\n",
    "df_youtube = df_youtube.append(df_youtube_u)\n",
    "\n",
    "df_tencent = pd.read_csv(\"./data/added_data_v2/tencent_game_na_tcp_flow.csv\")\n",
    "df_tencent.insert(loc=7, column='is_tcp', value='1')\n",
    "df_tencent_u = pd.read_csv(\"./data/added_data_v2/tencent_game_na_udp_flow.csv\")\n",
    "df_tencent_u.insert(loc=7, column='is_tcp', value='0')\n",
    "df_tencent = df_tencent.append(df_tencent_u)\n",
    "\n",
    "df_wechat = pd.read_csv(\"./data/added_data_v2/wechat_video_tcp_flow.csv\")\n",
    "df_wechat.insert(loc=7, column='is_tcp', value='1')\n",
    "df_wechat_u = pd.read_csv(\"./data/added_data_v2/wechat_video_udp_flow.csv\")\n",
    "df_wechat_u.insert(loc=7, column='is_tcp', value='0')\n",
    "df_wechat = df_wechat.append(df_wechat_u)\n",
    "\n",
    "df_google = pd.read_csv(\"./data/added_data_v2/google_drive_download_tcp_flow.csv\")\n",
    "df_google.insert(loc=7, column='is_tcp', value='1')\n",
    "df_google_u = pd.read_csv(\"./data/added_data_v2/google_drive_download_udp_flow.csv\")\n",
    "df_google_u.insert(loc=7, column='is_tcp', value='0')\n",
    "df_google = df_google.append(df_google_u)"
   ]
  },
  {
   "cell_type": "code",
   "execution_count": 3,
   "metadata": {
    "collapsed": true
   },
   "outputs": [],
   "source": [
    "## name of output\n",
    "output = \"./concatenate.csv\""
   ]
  },
  {
   "cell_type": "code",
   "execution_count": 4,
   "metadata": {},
   "outputs": [
    {
     "name": "stdout",
     "output_type": "stream",
     "text": [
      "Read 334 rows.\n"
     ]
    }
   ],
   "source": [
    "print(\"Read {} rows.\".format(len(df_google)))\n"
   ]
  },
  {
   "cell_type": "code",
   "execution_count": 5,
   "metadata": {},
   "outputs": [
    {
     "data": {
      "text/html": [
       "<div>\n",
       "<style>\n",
       "    .dataframe thead tr:only-child th {\n",
       "        text-align: right;\n",
       "    }\n",
       "\n",
       "    .dataframe thead th {\n",
       "        text-align: left;\n",
       "    }\n",
       "\n",
       "    .dataframe tbody tr th {\n",
       "        vertical-align: top;\n",
       "    }\n",
       "</style>\n",
       "<table border=\"1\" class=\"dataframe\">\n",
       "  <thead>\n",
       "    <tr style=\"text-align: right;\">\n",
       "      <th></th>\n",
       "      <th>avg(pkt_len)</th>\n",
       "      <th>stddev(pkt_len)</th>\n",
       "      <th>fb_ratio</th>\n",
       "      <th>inter_arrival_time</th>\n",
       "      <th>pkt_count</th>\n",
       "      <th>duration</th>\n",
       "      <th>pkt_len</th>\n",
       "      <th>is_tcp</th>\n",
       "    </tr>\n",
       "  </thead>\n",
       "  <tbody>\n",
       "    <tr>\n",
       "      <th>0</th>\n",
       "      <td>33.076923</td>\n",
       "      <td>14.384375</td>\n",
       "      <td>1.166667</td>\n",
       "      <td>0.000217</td>\n",
       "      <td>13</td>\n",
       "      <td>0.002604</td>\n",
       "      <td>430.0</td>\n",
       "      <td>1</td>\n",
       "    </tr>\n",
       "    <tr>\n",
       "      <th>1</th>\n",
       "      <td>1290.257073</td>\n",
       "      <td>117.777328</td>\n",
       "      <td>-1.000000</td>\n",
       "      <td>0.000094</td>\n",
       "      <td>813</td>\n",
       "      <td>0.076193</td>\n",
       "      <td>1048979.0</td>\n",
       "      <td>1</td>\n",
       "    </tr>\n",
       "    <tr>\n",
       "      <th>2</th>\n",
       "      <td>1282.492665</td>\n",
       "      <td>129.922698</td>\n",
       "      <td>-1.000000</td>\n",
       "      <td>0.000088</td>\n",
       "      <td>818</td>\n",
       "      <td>0.072213</td>\n",
       "      <td>1049079.0</td>\n",
       "      <td>1</td>\n",
       "    </tr>\n",
       "    <tr>\n",
       "      <th>3</th>\n",
       "      <td>1282.492665</td>\n",
       "      <td>129.922698</td>\n",
       "      <td>-1.000000</td>\n",
       "      <td>0.001646</td>\n",
       "      <td>818</td>\n",
       "      <td>1.345143</td>\n",
       "      <td>1049079.0</td>\n",
       "      <td>1</td>\n",
       "    </tr>\n",
       "    <tr>\n",
       "      <th>4</th>\n",
       "      <td>1285.587010</td>\n",
       "      <td>124.614575</td>\n",
       "      <td>-1.000000</td>\n",
       "      <td>0.002019</td>\n",
       "      <td>816</td>\n",
       "      <td>1.645688</td>\n",
       "      <td>1049039.0</td>\n",
       "      <td>1</td>\n",
       "    </tr>\n",
       "  </tbody>\n",
       "</table>\n",
       "</div>"
      ],
      "text/plain": [
       "   avg(pkt_len)  stddev(pkt_len)  fb_ratio  inter_arrival_time  pkt_count  \\\n",
       "0     33.076923        14.384375  1.166667            0.000217         13   \n",
       "1   1290.257073       117.777328 -1.000000            0.000094        813   \n",
       "2   1282.492665       129.922698 -1.000000            0.000088        818   \n",
       "3   1282.492665       129.922698 -1.000000            0.001646        818   \n",
       "4   1285.587010       124.614575 -1.000000            0.002019        816   \n",
       "\n",
       "   duration    pkt_len is_tcp  \n",
       "0  0.002604      430.0      1  \n",
       "1  0.076193  1048979.0      1  \n",
       "2  0.072213  1049079.0      1  \n",
       "3  1.345143  1049079.0      1  \n",
       "4  1.645688  1049039.0      1  "
      ]
     },
     "execution_count": 5,
     "metadata": {},
     "output_type": "execute_result"
    }
   ],
   "source": [
    "df_bili.head(5)"
   ]
  },
  {
   "cell_type": "code",
   "execution_count": 6,
   "metadata": {
    "collapsed": true
   },
   "outputs": [],
   "source": [
    "df_bili.insert(loc=8, column='outcome', value='streaming')\n",
    "df_skype.insert(loc=8, column='outcome', value='voip')\n",
    "df_download.insert(loc=8, column='outcome', value='download')\n",
    "df_LoL.insert(loc=8, column='outcome', value='game')\n",
    "df_netease.insert(loc=8, column='outcome', value='game')\n",
    "df_youtube.insert(loc=8, column='outcome', value='streaming')\n",
    "df_tencent.insert(loc=8, column='outcome', value='game')\n",
    "df_wechat.insert(loc=8, column='outcome', value='voip')\n",
    "df_google.insert(loc=8, column='outcome', value='download')"
   ]
  },
  {
   "cell_type": "code",
   "execution_count": 7,
   "metadata": {
    "collapsed": true
   },
   "outputs": [],
   "source": [
    "df_concat = pd.concat([df_bili, df_skype, df_download, df_LoL, df_netease, df_youtube, df_tencent, df_wechat, df_google\n",
    "                      ], ignore_index=True)"
   ]
  },
  {
   "cell_type": "code",
   "execution_count": 8,
   "metadata": {},
   "outputs": [
    {
     "name": "stdout",
     "output_type": "stream",
     "text": [
      "Read 4969 rows.\n"
     ]
    }
   ],
   "source": [
    "# df_1x.head(5)\n",
    "print(\"Read {} rows.\".format(len(df_concat)))\n",
    "# print(\"Missing values:\")\n",
    "# print(format(df_google.isnull().sum()))"
   ]
  },
  {
   "cell_type": "code",
   "execution_count": 9,
   "metadata": {},
   "outputs": [
    {
     "data": {
      "text/html": [
       "<div>\n",
       "<style>\n",
       "    .dataframe thead tr:only-child th {\n",
       "        text-align: right;\n",
       "    }\n",
       "\n",
       "    .dataframe thead th {\n",
       "        text-align: left;\n",
       "    }\n",
       "\n",
       "    .dataframe tbody tr th {\n",
       "        vertical-align: top;\n",
       "    }\n",
       "</style>\n",
       "<table border=\"1\" class=\"dataframe\">\n",
       "  <thead>\n",
       "    <tr style=\"text-align: right;\">\n",
       "      <th></th>\n",
       "      <th>avg(pkt_len)</th>\n",
       "      <th>stddev(pkt_len)</th>\n",
       "      <th>fb_ratio</th>\n",
       "      <th>inter_arrival_time</th>\n",
       "      <th>pkt_count</th>\n",
       "      <th>duration</th>\n",
       "      <th>pkt_len</th>\n",
       "      <th>is_tcp</th>\n",
       "      <th>outcome</th>\n",
       "    </tr>\n",
       "  </thead>\n",
       "  <tbody>\n",
       "    <tr>\n",
       "      <th>0</th>\n",
       "      <td>33.076923</td>\n",
       "      <td>14.384375</td>\n",
       "      <td>1.166667</td>\n",
       "      <td>0.000217</td>\n",
       "      <td>13</td>\n",
       "      <td>0.002604</td>\n",
       "      <td>430.0</td>\n",
       "      <td>1</td>\n",
       "      <td>streaming</td>\n",
       "    </tr>\n",
       "    <tr>\n",
       "      <th>1</th>\n",
       "      <td>1290.257073</td>\n",
       "      <td>117.777328</td>\n",
       "      <td>-1.000000</td>\n",
       "      <td>0.000094</td>\n",
       "      <td>813</td>\n",
       "      <td>0.076193</td>\n",
       "      <td>1048979.0</td>\n",
       "      <td>1</td>\n",
       "      <td>streaming</td>\n",
       "    </tr>\n",
       "    <tr>\n",
       "      <th>2</th>\n",
       "      <td>1282.492665</td>\n",
       "      <td>129.922698</td>\n",
       "      <td>-1.000000</td>\n",
       "      <td>0.000088</td>\n",
       "      <td>818</td>\n",
       "      <td>0.072213</td>\n",
       "      <td>1049079.0</td>\n",
       "      <td>1</td>\n",
       "      <td>streaming</td>\n",
       "    </tr>\n",
       "    <tr>\n",
       "      <th>3</th>\n",
       "      <td>1282.492665</td>\n",
       "      <td>129.922698</td>\n",
       "      <td>-1.000000</td>\n",
       "      <td>0.001646</td>\n",
       "      <td>818</td>\n",
       "      <td>1.345143</td>\n",
       "      <td>1049079.0</td>\n",
       "      <td>1</td>\n",
       "      <td>streaming</td>\n",
       "    </tr>\n",
       "    <tr>\n",
       "      <th>4</th>\n",
       "      <td>1285.587010</td>\n",
       "      <td>124.614575</td>\n",
       "      <td>-1.000000</td>\n",
       "      <td>0.002019</td>\n",
       "      <td>816</td>\n",
       "      <td>1.645688</td>\n",
       "      <td>1049039.0</td>\n",
       "      <td>1</td>\n",
       "      <td>streaming</td>\n",
       "    </tr>\n",
       "  </tbody>\n",
       "</table>\n",
       "</div>"
      ],
      "text/plain": [
       "   avg(pkt_len)  stddev(pkt_len)  fb_ratio  inter_arrival_time pkt_count  \\\n",
       "0     33.076923        14.384375  1.166667            0.000217        13   \n",
       "1   1290.257073       117.777328 -1.000000            0.000094       813   \n",
       "2   1282.492665       129.922698 -1.000000            0.000088       818   \n",
       "3   1282.492665       129.922698 -1.000000            0.001646       818   \n",
       "4   1285.587010       124.614575 -1.000000            0.002019       816   \n",
       "\n",
       "   duration    pkt_len is_tcp    outcome  \n",
       "0  0.002604      430.0      1  streaming  \n",
       "1  0.076193  1048979.0      1  streaming  \n",
       "2  0.072213  1049079.0      1  streaming  \n",
       "3  1.345143  1049079.0      1  streaming  \n",
       "4  1.645688  1049039.0      1  streaming  "
      ]
     },
     "execution_count": 9,
     "metadata": {},
     "output_type": "execute_result"
    }
   ],
   "source": [
    "df_concat.head(5)"
   ]
  },
  {
   "cell_type": "code",
   "execution_count": 10,
   "metadata": {
    "collapsed": true
   },
   "outputs": [],
   "source": [
    "df_concat.to_csv(output)"
   ]
  },
  {
   "cell_type": "code",
   "execution_count": 11,
   "metadata": {},
   "outputs": [],
   "source": [
    "df_voip = pd.concat([df_wechat, df_skype], ignore_index=True)\n",
    "df_streaming = pd.concat([df_youtube, df_bili], ignore_index=True)\n",
    "df_game = pd.concat([df_tencent, df_LoL, df_netease], ignore_index=True)\n",
    "df_down = pd.concat([df_google, df_download], ignore_index=True)"
   ]
  },
  {
   "cell_type": "code",
   "execution_count": 12,
   "metadata": {},
   "outputs": [],
   "source": [
    "df_voip.to_csv(\"./voip.csv\")\n",
    "df_streaming.to_csv(\"./streaming.csv\")\n",
    "df_game.to_csv(\"./game.csv\")\n",
    "df_down.to_csv(\"./download.csv\")"
   ]
  },
  {
   "cell_type": "code",
   "execution_count": null,
   "metadata": {
    "collapsed": true
   },
   "outputs": [],
   "source": []
  }
 ],
 "metadata": {
  "kernelspec": {
   "display_name": "Python 3",
   "language": "python",
   "name": "python3"
  },
  "language_info": {
   "codemirror_mode": {
    "name": "ipython",
    "version": 3
   },
   "file_extension": ".py",
   "mimetype": "text/x-python",
   "name": "python",
   "nbconvert_exporter": "python",
   "pygments_lexer": "ipython3",
   "version": "3.6.1"
  }
 },
 "nbformat": 4,
 "nbformat_minor": 2
}
