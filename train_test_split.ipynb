{
 "cells": [
  {
   "cell_type": "code",
   "execution_count": 8,
   "metadata": {
    "collapsed": true
   },
   "outputs": [],
   "source": [
    "import pandas as pd\n",
    "from sklearn.model_selection import train_test_split\n",
    "import numpy as np"
   ]
  },
  {
   "cell_type": "code",
   "execution_count": null,
   "metadata": {
    "collapsed": true
   },
   "outputs": [],
   "source": []
  },
  {
   "cell_type": "code",
   "execution_count": 9,
   "metadata": {
    "collapsed": true
   },
   "outputs": [],
   "source": [
    "df = pd.read_csv(\"./concatenate.csv\")\n",
    "df = df.drop(df.columns[0], axis=1)"
   ]
  },
  {
   "cell_type": "code",
   "execution_count": 10,
   "metadata": {},
   "outputs": [
    {
     "data": {
      "text/html": [
       "<div>\n",
       "<style>\n",
       "    .dataframe thead tr:only-child th {\n",
       "        text-align: right;\n",
       "    }\n",
       "\n",
       "    .dataframe thead th {\n",
       "        text-align: left;\n",
       "    }\n",
       "\n",
       "    .dataframe tbody tr th {\n",
       "        vertical-align: top;\n",
       "    }\n",
       "</style>\n",
       "<table border=\"1\" class=\"dataframe\">\n",
       "  <thead>\n",
       "    <tr style=\"text-align: right;\">\n",
       "      <th></th>\n",
       "      <th>avg(pkt_len)</th>\n",
       "      <th>stddev(pkt_len)</th>\n",
       "      <th>fb_ratio</th>\n",
       "      <th>inter_arrival_time</th>\n",
       "      <th>pkt_count</th>\n",
       "      <th>is_tcp</th>\n",
       "      <th>outcome</th>\n",
       "    </tr>\n",
       "  </thead>\n",
       "  <tbody>\n",
       "    <tr>\n",
       "      <th>0</th>\n",
       "      <td>4.428571</td>\n",
       "      <td>11.716899</td>\n",
       "      <td>0.750000</td>\n",
       "      <td>0.014521</td>\n",
       "      <td>7</td>\n",
       "      <td>1</td>\n",
       "      <td>bili</td>\n",
       "    </tr>\n",
       "    <tr>\n",
       "      <th>1</th>\n",
       "      <td>1011.593000</td>\n",
       "      <td>517.558285</td>\n",
       "      <td>4.025126</td>\n",
       "      <td>0.001144</td>\n",
       "      <td>1000</td>\n",
       "      <td>1</td>\n",
       "      <td>bili</td>\n",
       "    </tr>\n",
       "    <tr>\n",
       "      <th>2</th>\n",
       "      <td>834.888889</td>\n",
       "      <td>607.661173</td>\n",
       "      <td>2.750000</td>\n",
       "      <td>0.015555</td>\n",
       "      <td>45</td>\n",
       "      <td>1</td>\n",
       "      <td>bili</td>\n",
       "    </tr>\n",
       "    <tr>\n",
       "      <th>3</th>\n",
       "      <td>76.123077</td>\n",
       "      <td>106.796264</td>\n",
       "      <td>1.063492</td>\n",
       "      <td>1.706077</td>\n",
       "      <td>130</td>\n",
       "      <td>1</td>\n",
       "      <td>bili</td>\n",
       "    </tr>\n",
       "    <tr>\n",
       "      <th>4</th>\n",
       "      <td>4.428571</td>\n",
       "      <td>11.716899</td>\n",
       "      <td>0.750000</td>\n",
       "      <td>0.014508</td>\n",
       "      <td>7</td>\n",
       "      <td>1</td>\n",
       "      <td>bili</td>\n",
       "    </tr>\n",
       "  </tbody>\n",
       "</table>\n",
       "</div>"
      ],
      "text/plain": [
       "   avg(pkt_len)  stddev(pkt_len)  fb_ratio  inter_arrival_time  pkt_count  \\\n",
       "0      4.428571        11.716899  0.750000            0.014521          7   \n",
       "1   1011.593000       517.558285  4.025126            0.001144       1000   \n",
       "2    834.888889       607.661173  2.750000            0.015555         45   \n",
       "3     76.123077       106.796264  1.063492            1.706077        130   \n",
       "4      4.428571        11.716899  0.750000            0.014508          7   \n",
       "\n",
       "   is_tcp outcome  \n",
       "0       1    bili  \n",
       "1       1    bili  \n",
       "2       1    bili  \n",
       "3       1    bili  \n",
       "4       1    bili  "
      ]
     },
     "execution_count": 10,
     "metadata": {},
     "output_type": "execute_result"
    }
   ],
   "source": [
    "df.head(5)"
   ]
  },
  {
   "cell_type": "code",
   "execution_count": 11,
   "metadata": {},
   "outputs": [
    {
     "data": {
      "text/plain": [
       "2528"
      ]
     },
     "execution_count": 11,
     "metadata": {},
     "output_type": "execute_result"
    }
   ],
   "source": [
    "len(df)"
   ]
  },
  {
   "cell_type": "code",
   "execution_count": 12,
   "metadata": {
    "collapsed": true
   },
   "outputs": [],
   "source": [
    "## change to 0.50 0.25 0.75\n",
    "\n",
    "## train : test = 7 : 3\n",
    "train_normal, test_normal = train_test_split(df, test_size=0.3)\n",
    "\n",
    "# ## train : test = 0.75 : 0.25\n",
    "# train_normal, test_normal = train_test_split(df_normal, test_size=0.75)\n",
    "\n",
    "# ## train : test = 0.25 : 0.75\n",
    "# train_normal, test_normal = train_test_split(df_normal, test_size=0.25)"
   ]
  },
  {
   "cell_type": "code",
   "execution_count": 13,
   "metadata": {},
   "outputs": [
    {
     "data": {
      "text/plain": [
       "1769"
      ]
     },
     "execution_count": 13,
     "metadata": {},
     "output_type": "execute_result"
    }
   ],
   "source": [
    "len(train_normal)"
   ]
  },
  {
   "cell_type": "code",
   "execution_count": 15,
   "metadata": {},
   "outputs": [
    {
     "data": {
      "text/html": [
       "<div>\n",
       "<style>\n",
       "    .dataframe thead tr:only-child th {\n",
       "        text-align: right;\n",
       "    }\n",
       "\n",
       "    .dataframe thead th {\n",
       "        text-align: left;\n",
       "    }\n",
       "\n",
       "    .dataframe tbody tr th {\n",
       "        vertical-align: top;\n",
       "    }\n",
       "</style>\n",
       "<table border=\"1\" class=\"dataframe\">\n",
       "  <thead>\n",
       "    <tr style=\"text-align: right;\">\n",
       "      <th></th>\n",
       "      <th>avg(pkt_len)</th>\n",
       "      <th>stddev(pkt_len)</th>\n",
       "      <th>fb_ratio</th>\n",
       "      <th>inter_arrival_time</th>\n",
       "      <th>pkt_count</th>\n",
       "      <th>is_tcp</th>\n",
       "      <th>outcome</th>\n",
       "    </tr>\n",
       "  </thead>\n",
       "  <tbody>\n",
       "    <tr>\n",
       "      <th>868</th>\n",
       "      <td>367.526316</td>\n",
       "      <td>604.976342</td>\n",
       "      <td>0.900000</td>\n",
       "      <td>0.013149</td>\n",
       "      <td>19</td>\n",
       "      <td>1</td>\n",
       "      <td>skype</td>\n",
       "    </tr>\n",
       "    <tr>\n",
       "      <th>855</th>\n",
       "      <td>137.928571</td>\n",
       "      <td>384.856909</td>\n",
       "      <td>1.000000</td>\n",
       "      <td>0.025902</td>\n",
       "      <td>14</td>\n",
       "      <td>1</td>\n",
       "      <td>skype</td>\n",
       "    </tr>\n",
       "    <tr>\n",
       "      <th>1201</th>\n",
       "      <td>1288.000000</td>\n",
       "      <td>0.000000</td>\n",
       "      <td>-1.000000</td>\n",
       "      <td>0.000186</td>\n",
       "      <td>1000</td>\n",
       "      <td>1</td>\n",
       "      <td>download</td>\n",
       "    </tr>\n",
       "    <tr>\n",
       "      <th>1080</th>\n",
       "      <td>194.000000</td>\n",
       "      <td>-1.000000</td>\n",
       "      <td>0.000000</td>\n",
       "      <td>-1.000000</td>\n",
       "      <td>1</td>\n",
       "      <td>0</td>\n",
       "      <td>skype</td>\n",
       "    </tr>\n",
       "    <tr>\n",
       "      <th>2475</th>\n",
       "      <td>71.000000</td>\n",
       "      <td>-1.000000</td>\n",
       "      <td>0.000000</td>\n",
       "      <td>-1.000000</td>\n",
       "      <td>1</td>\n",
       "      <td>0</td>\n",
       "      <td>tencent</td>\n",
       "    </tr>\n",
       "    <tr>\n",
       "      <th>1546</th>\n",
       "      <td>174.986000</td>\n",
       "      <td>193.484485</td>\n",
       "      <td>-1.000000</td>\n",
       "      <td>0.061939</td>\n",
       "      <td>1000</td>\n",
       "      <td>0</td>\n",
       "      <td>LoL</td>\n",
       "    </tr>\n",
       "    <tr>\n",
       "      <th>232</th>\n",
       "      <td>365.384615</td>\n",
       "      <td>529.289794</td>\n",
       "      <td>1.363636</td>\n",
       "      <td>0.037132</td>\n",
       "      <td>26</td>\n",
       "      <td>1</td>\n",
       "      <td>skype</td>\n",
       "    </tr>\n",
       "    <tr>\n",
       "      <th>1532</th>\n",
       "      <td>35.320000</td>\n",
       "      <td>12.335224</td>\n",
       "      <td>-1.000000</td>\n",
       "      <td>0.029828</td>\n",
       "      <td>1000</td>\n",
       "      <td>0</td>\n",
       "      <td>LoL</td>\n",
       "    </tr>\n",
       "    <tr>\n",
       "      <th>2313</th>\n",
       "      <td>153.000000</td>\n",
       "      <td>-1.000000</td>\n",
       "      <td>0.000000</td>\n",
       "      <td>-1.000000</td>\n",
       "      <td>1</td>\n",
       "      <td>0</td>\n",
       "      <td>tencent</td>\n",
       "    </tr>\n",
       "    <tr>\n",
       "      <th>152</th>\n",
       "      <td>84.913043</td>\n",
       "      <td>201.726843</td>\n",
       "      <td>1.090909</td>\n",
       "      <td>0.254161</td>\n",
       "      <td>23</td>\n",
       "      <td>1</td>\n",
       "      <td>bili</td>\n",
       "    </tr>\n",
       "  </tbody>\n",
       "</table>\n",
       "</div>"
      ],
      "text/plain": [
       "      avg(pkt_len)  stddev(pkt_len)  fb_ratio  inter_arrival_time  pkt_count  \\\n",
       "868     367.526316       604.976342  0.900000            0.013149         19   \n",
       "855     137.928571       384.856909  1.000000            0.025902         14   \n",
       "1201   1288.000000         0.000000 -1.000000            0.000186       1000   \n",
       "1080    194.000000        -1.000000  0.000000           -1.000000          1   \n",
       "2475     71.000000        -1.000000  0.000000           -1.000000          1   \n",
       "1546    174.986000       193.484485 -1.000000            0.061939       1000   \n",
       "232     365.384615       529.289794  1.363636            0.037132         26   \n",
       "1532     35.320000        12.335224 -1.000000            0.029828       1000   \n",
       "2313    153.000000        -1.000000  0.000000           -1.000000          1   \n",
       "152      84.913043       201.726843  1.090909            0.254161         23   \n",
       "\n",
       "      is_tcp   outcome  \n",
       "868        1     skype  \n",
       "855        1     skype  \n",
       "1201       1  download  \n",
       "1080       0     skype  \n",
       "2475       0   tencent  \n",
       "1546       0       LoL  \n",
       "232        1     skype  \n",
       "1532       0       LoL  \n",
       "2313       0   tencent  \n",
       "152        1      bili  "
      ]
     },
     "execution_count": 15,
     "metadata": {},
     "output_type": "execute_result"
    }
   ],
   "source": [
    "train_normal.head(10)"
   ]
  },
  {
   "cell_type": "code",
   "execution_count": 16,
   "metadata": {
    "collapsed": true
   },
   "outputs": [],
   "source": [
    "# train test split on no sampled data\n",
    "\n",
    "train_normal.to_csv('./train_70%.csv')\n",
    "test_normal.to_csv('./test_30%.csv')"
   ]
  },
  {
   "cell_type": "code",
   "execution_count": 17,
   "metadata": {
    "collapsed": true
   },
   "outputs": [],
   "source": [
    "# # train test split on upsampled data\n",
    "\n",
    "# train_normal.to_csv('/Users/tsaiflow/Desktop/NN&Sampling/data_upsampled_ddos(unb)_normal(own)/test/upsampled/upsampled_samp@80%_.csv')\n",
    "# test_normal.to_csv('/Users/tsaiflow/Desktop/NN&Sampling/data_upsampled_ddos(unb)_normal(own)/test/upsampled/upsampled_samp@80%_.csv')"
   ]
  },
  {
   "cell_type": "code",
   "execution_count": 18,
   "metadata": {
    "collapsed": true
   },
   "outputs": [],
   "source": [
    "# # train test split on upsampled data\n",
    "\n",
    "# train_normal.to_csv('/Users/tsaiflow/Desktop/NN&Sampling/data_upsampled_ddos(unb)_normal(own)/test/no_upsampled/train_nosampled_50%.csv')\n",
    "# test_normal.to_csv('/Users/tsaiflow/Desktop/NN&Sampling/data_upsampled_ddos(unb)_normal(own)/test/no_upsampled/test_nosampled_50%.csv')"
   ]
  },
  {
   "cell_type": "code",
   "execution_count": null,
   "metadata": {
    "collapsed": true
   },
   "outputs": [],
   "source": []
  }
 ],
 "metadata": {
  "kernelspec": {
   "display_name": "Python 3",
   "language": "python",
   "name": "python3"
  },
  "language_info": {
   "codemirror_mode": {
    "name": "ipython",
    "version": 3
   },
   "file_extension": ".py",
   "mimetype": "text/x-python",
   "name": "python",
   "nbconvert_exporter": "python",
   "pygments_lexer": "ipython3",
   "version": "3.6.1"
  }
 },
 "nbformat": 4,
 "nbformat_minor": 2
}
